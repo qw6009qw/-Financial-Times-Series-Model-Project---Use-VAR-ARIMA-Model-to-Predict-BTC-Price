{
 "cells": [
  {
   "cell_type": "code",
   "execution_count": 1,
   "id": "4108f7a2",
   "metadata": {},
   "outputs": [
    {
     "ename": "ModuleNotFoundError",
     "evalue": "No module named 'seaborn'",
     "output_type": "error",
     "traceback": [
      "\u001b[0;31m---------------------------------------------------------------------------\u001b[0m",
      "\u001b[0;31mModuleNotFoundError\u001b[0m                       Traceback (most recent call last)",
      "\u001b[1;32m/Users/jonathancheng/Downloads/TS_Final.ipynb Cell 1'\u001b[0m in \u001b[0;36m<cell line: 5>\u001b[0;34m()\u001b[0m\n\u001b[1;32m      <a href='vscode-notebook-cell:/Users/jonathancheng/Downloads/TS_Final.ipynb#ch0000000?line=2'>3</a>\u001b[0m \u001b[39mimport\u001b[39;00m \u001b[39mpandas\u001b[39;00m \u001b[39mas\u001b[39;00m \u001b[39mpd\u001b[39;00m\n\u001b[1;32m      <a href='vscode-notebook-cell:/Users/jonathancheng/Downloads/TS_Final.ipynb#ch0000000?line=3'>4</a>\u001b[0m \u001b[39mimport\u001b[39;00m \u001b[39mmatplotlib\u001b[39;00m\u001b[39m.\u001b[39;00m\u001b[39mpyplot\u001b[39;00m \u001b[39mas\u001b[39;00m \u001b[39mplt\u001b[39;00m\n\u001b[0;32m----> <a href='vscode-notebook-cell:/Users/jonathancheng/Downloads/TS_Final.ipynb#ch0000000?line=4'>5</a>\u001b[0m \u001b[39mimport\u001b[39;00m \u001b[39mseaborn\u001b[39;00m \u001b[39mas\u001b[39;00m \u001b[39msns\u001b[39;00m\n\u001b[1;32m      <a href='vscode-notebook-cell:/Users/jonathancheng/Downloads/TS_Final.ipynb#ch0000000?line=6'>7</a>\u001b[0m \u001b[39mimport\u001b[39;00m \u001b[39mwarnings\u001b[39;00m\n\u001b[1;32m      <a href='vscode-notebook-cell:/Users/jonathancheng/Downloads/TS_Final.ipynb#ch0000000?line=7'>8</a>\u001b[0m warnings\u001b[39m.\u001b[39mfilterwarnings(\u001b[39m'\u001b[39m\u001b[39mignore\u001b[39m\u001b[39m'\u001b[39m)\n",
      "\u001b[0;31mModuleNotFoundError\u001b[0m: No module named 'seaborn'"
     ]
    }
   ],
   "source": [
    "from pandas import read_csv\n",
    "import numpy as np\n",
    "import pandas as pd\n",
    "import matplotlib.pyplot as plt\n",
    "import seaborn as sns\n",
    "\n",
    "import warnings\n",
    "warnings.filterwarnings('ignore')\n",
    "\n",
    "%matplotlib inline"
   ]
  },
  {
   "cell_type": "code",
   "execution_count": null,
   "id": "39b585cd",
   "metadata": {
    "scrolled": true
   },
   "outputs": [
    {
     "name": "stdout",
     "output_type": "stream",
     "text": [
      "    Timestamp  Open  High   Low  Close  Volume_(BTC)  Volume_(Currency)  \\\n",
      "0  1325317920  4.39  4.39  4.39   4.39      0.455581                2.0   \n",
      "1  1325317980   NaN   NaN   NaN    NaN           NaN                NaN   \n",
      "2  1325318040   NaN   NaN   NaN    NaN           NaN                NaN   \n",
      "3  1325318100   NaN   NaN   NaN    NaN           NaN                NaN   \n",
      "4  1325318160   NaN   NaN   NaN    NaN           NaN                NaN   \n",
      "\n",
      "   Weighted_Price  \n",
      "0            4.39  \n",
      "1             NaN  \n",
      "2             NaN  \n",
      "3             NaN  \n",
      "4             NaN  \n"
     ]
    }
   ],
   "source": [
    "df = read_csv('C:/Users/YanFO/Desktop/研究所/碩一下/時序/期末/BIT_min_data.csv')\n",
    "print(df.head())"
   ]
  },
  {
   "cell_type": "code",
   "execution_count": null,
   "id": "207b865b",
   "metadata": {},
   "outputs": [
    {
     "data": {
      "text/plain": [
       "(4572257, 8)"
      ]
     },
     "execution_count": 3,
     "metadata": {},
     "output_type": "execute_result"
    }
   ],
   "source": [
    "df.shape"
   ]
  },
  {
   "cell_type": "markdown",
   "id": "ae83810e",
   "metadata": {},
   "source": [
    "## Data Cleaning"
   ]
  },
  {
   "cell_type": "code",
   "execution_count": null,
   "id": "58ae10cf",
   "metadata": {},
   "outputs": [],
   "source": [
    "bitcoin_df = df.copy() # making a copy of the dataset to work with"
   ]
  },
  {
   "cell_type": "code",
   "execution_count": null,
   "id": "3d540f9c",
   "metadata": {},
   "outputs": [
    {
     "data": {
      "text/html": [
       "<div>\n",
       "<style scoped>\n",
       "    .dataframe tbody tr th:only-of-type {\n",
       "        vertical-align: middle;\n",
       "    }\n",
       "\n",
       "    .dataframe tbody tr th {\n",
       "        vertical-align: top;\n",
       "    }\n",
       "\n",
       "    .dataframe thead th {\n",
       "        text-align: right;\n",
       "    }\n",
       "</style>\n",
       "<table border=\"1\" class=\"dataframe\">\n",
       "  <thead>\n",
       "    <tr style=\"text-align: right;\">\n",
       "      <th></th>\n",
       "      <th>Open</th>\n",
       "      <th>High</th>\n",
       "      <th>Low</th>\n",
       "      <th>Close</th>\n",
       "      <th>Volume_(BTC)</th>\n",
       "      <th>Volume_(Currency)</th>\n",
       "      <th>Weighted_Price</th>\n",
       "    </tr>\n",
       "    <tr>\n",
       "      <th>Timestamp</th>\n",
       "      <th></th>\n",
       "      <th></th>\n",
       "      <th></th>\n",
       "      <th></th>\n",
       "      <th></th>\n",
       "      <th></th>\n",
       "      <th></th>\n",
       "    </tr>\n",
       "  </thead>\n",
       "  <tbody>\n",
       "    <tr>\n",
       "      <th>2011-12-31 07:52:00</th>\n",
       "      <td>4.39</td>\n",
       "      <td>4.39</td>\n",
       "      <td>4.39</td>\n",
       "      <td>4.39</td>\n",
       "      <td>0.455581</td>\n",
       "      <td>2.0</td>\n",
       "      <td>4.39</td>\n",
       "    </tr>\n",
       "    <tr>\n",
       "      <th>2011-12-31 07:53:00</th>\n",
       "      <td>NaN</td>\n",
       "      <td>NaN</td>\n",
       "      <td>NaN</td>\n",
       "      <td>NaN</td>\n",
       "      <td>NaN</td>\n",
       "      <td>NaN</td>\n",
       "      <td>NaN</td>\n",
       "    </tr>\n",
       "    <tr>\n",
       "      <th>2011-12-31 07:54:00</th>\n",
       "      <td>NaN</td>\n",
       "      <td>NaN</td>\n",
       "      <td>NaN</td>\n",
       "      <td>NaN</td>\n",
       "      <td>NaN</td>\n",
       "      <td>NaN</td>\n",
       "      <td>NaN</td>\n",
       "    </tr>\n",
       "    <tr>\n",
       "      <th>2011-12-31 07:55:00</th>\n",
       "      <td>NaN</td>\n",
       "      <td>NaN</td>\n",
       "      <td>NaN</td>\n",
       "      <td>NaN</td>\n",
       "      <td>NaN</td>\n",
       "      <td>NaN</td>\n",
       "      <td>NaN</td>\n",
       "    </tr>\n",
       "    <tr>\n",
       "      <th>2011-12-31 07:56:00</th>\n",
       "      <td>NaN</td>\n",
       "      <td>NaN</td>\n",
       "      <td>NaN</td>\n",
       "      <td>NaN</td>\n",
       "      <td>NaN</td>\n",
       "      <td>NaN</td>\n",
       "      <td>NaN</td>\n",
       "    </tr>\n",
       "  </tbody>\n",
       "</table>\n",
       "</div>"
      ],
      "text/plain": [
       "                     Open  High   Low  Close  Volume_(BTC)  Volume_(Currency)  \\\n",
       "Timestamp                                                                       \n",
       "2011-12-31 07:52:00  4.39  4.39  4.39   4.39      0.455581                2.0   \n",
       "2011-12-31 07:53:00   NaN   NaN   NaN    NaN           NaN                NaN   \n",
       "2011-12-31 07:54:00   NaN   NaN   NaN    NaN           NaN                NaN   \n",
       "2011-12-31 07:55:00   NaN   NaN   NaN    NaN           NaN                NaN   \n",
       "2011-12-31 07:56:00   NaN   NaN   NaN    NaN           NaN                NaN   \n",
       "\n",
       "                     Weighted_Price  \n",
       "Timestamp                            \n",
       "2011-12-31 07:52:00            4.39  \n",
       "2011-12-31 07:53:00             NaN  \n",
       "2011-12-31 07:54:00             NaN  \n",
       "2011-12-31 07:55:00             NaN  \n",
       "2011-12-31 07:56:00             NaN  "
      ]
     },
     "execution_count": 5,
     "metadata": {},
     "output_type": "execute_result"
    }
   ],
   "source": [
    "time_col = pd.to_datetime(bitcoin_df['Timestamp'], unit='s') # converting the 'Timestamp' column to \n",
    "                                                             # datetime object\n",
    "\n",
    "bitcoin_df.drop('Timestamp', axis=1, inplace=True) # drops the 'Timestamp' column\n",
    "bitcoin_df['Timestamp'] = time_col # creates a new 'Timestamp' column with datetime dtype\n",
    "bitcoin_df.set_index('Timestamp', inplace=True) # makes 'Timestamp' the index\n",
    "\n",
    "bitcoin_df.head()"
   ]
  },
  {
   "cell_type": "code",
   "execution_count": null,
   "id": "4d5f3e68",
   "metadata": {},
   "outputs": [
    {
     "data": {
      "text/plain": [
       "Open                 1241716\n",
       "High                 1241716\n",
       "Low                  1241716\n",
       "Close                1241716\n",
       "Volume_(BTC)         1241716\n",
       "Volume_(Currency)    1241716\n",
       "Weighted_Price       1241716\n",
       "dtype: int64"
      ]
     },
     "execution_count": 6,
     "metadata": {},
     "output_type": "execute_result"
    }
   ],
   "source": [
    "missing_val_mask = bitcoin_df.isnull() # creating a dataframe with boolean values indicating the presence of \n",
    "                                       # missing value\n",
    "missing_val_mask.sum()"
   ]
  },
  {
   "cell_type": "code",
   "execution_count": null,
   "id": "057089c8",
   "metadata": {},
   "outputs": [
    {
     "data": {
      "text/plain": [
       "True"
      ]
     },
     "execution_count": 7,
     "metadata": {},
     "output_type": "execute_result"
    }
   ],
   "source": [
    "missing_val_mask.sum(axis=1).sum() == len(bitcoin_df.columns) * missing_val_mask.sum().loc['Open']"
   ]
  },
  {
   "cell_type": "code",
   "execution_count": null,
   "id": "ad33b718",
   "metadata": {
    "scrolled": true
   },
   "outputs": [
    {
     "name": "stdout",
     "output_type": "stream",
     "text": [
      "There are 1241716 rows with missing values which make up 27.158% of the total number of rows\n"
     ]
    }
   ],
   "source": [
    "n_missing_val = missing_val_mask.sum().loc['Open'] # number of rows with missing values\n",
    "print('There are {} rows with missing values which make up {}% of the total number of rows'.format( \\\n",
    "                                            n_missing_val, round(100*n_missing_val / bitcoin_df.shape[0], 3)))"
   ]
  },
  {
   "cell_type": "markdown",
   "id": "4dc4be7d",
   "metadata": {},
   "source": [
    "From domain knowledge of Bitcoin trading, Weighted Price = Volume(Currency) / Volume(BTC). Let's check if this is true of our data. First, let's see what happens when Volume(BTC) = 0"
   ]
  },
  {
   "cell_type": "code",
   "execution_count": null,
   "id": "c021aa99",
   "metadata": {},
   "outputs": [
    {
     "data": {
      "text/html": [
       "<div>\n",
       "<style scoped>\n",
       "    .dataframe tbody tr th:only-of-type {\n",
       "        vertical-align: middle;\n",
       "    }\n",
       "\n",
       "    .dataframe tbody tr th {\n",
       "        vertical-align: top;\n",
       "    }\n",
       "\n",
       "    .dataframe thead th {\n",
       "        text-align: right;\n",
       "    }\n",
       "</style>\n",
       "<table border=\"1\" class=\"dataframe\">\n",
       "  <thead>\n",
       "    <tr style=\"text-align: right;\">\n",
       "      <th></th>\n",
       "      <th>Open</th>\n",
       "      <th>High</th>\n",
       "      <th>Low</th>\n",
       "      <th>Close</th>\n",
       "      <th>Volume_(BTC)</th>\n",
       "      <th>Volume_(Currency)</th>\n",
       "      <th>Weighted_Price</th>\n",
       "    </tr>\n",
       "    <tr>\n",
       "      <th>Timestamp</th>\n",
       "      <th></th>\n",
       "      <th></th>\n",
       "      <th></th>\n",
       "      <th></th>\n",
       "      <th></th>\n",
       "      <th></th>\n",
       "      <th></th>\n",
       "    </tr>\n",
       "  </thead>\n",
       "  <tbody>\n",
       "    <tr>\n",
       "      <th>2012-05-21 10:28:00</th>\n",
       "      <td>5.08</td>\n",
       "      <td>5.08</td>\n",
       "      <td>5.08</td>\n",
       "      <td>5.08</td>\n",
       "      <td>0.0</td>\n",
       "      <td>0.0</td>\n",
       "      <td>5.08</td>\n",
       "    </tr>\n",
       "    <tr>\n",
       "      <th>2012-08-27 10:49:00</th>\n",
       "      <td>11.92</td>\n",
       "      <td>11.92</td>\n",
       "      <td>11.92</td>\n",
       "      <td>11.92</td>\n",
       "      <td>0.0</td>\n",
       "      <td>0.0</td>\n",
       "      <td>11.92</td>\n",
       "    </tr>\n",
       "    <tr>\n",
       "      <th>2013-03-30 17:08:00</th>\n",
       "      <td>92.21</td>\n",
       "      <td>92.21</td>\n",
       "      <td>92.21</td>\n",
       "      <td>92.21</td>\n",
       "      <td>0.0</td>\n",
       "      <td>0.0</td>\n",
       "      <td>92.21</td>\n",
       "    </tr>\n",
       "    <tr>\n",
       "      <th>2013-05-22 01:09:00</th>\n",
       "      <td>118.00</td>\n",
       "      <td>118.00</td>\n",
       "      <td>118.00</td>\n",
       "      <td>118.00</td>\n",
       "      <td>0.0</td>\n",
       "      <td>0.0</td>\n",
       "      <td>118.00</td>\n",
       "    </tr>\n",
       "    <tr>\n",
       "      <th>2013-06-06 01:52:00</th>\n",
       "      <td>121.04</td>\n",
       "      <td>121.04</td>\n",
       "      <td>121.04</td>\n",
       "      <td>121.04</td>\n",
       "      <td>0.0</td>\n",
       "      <td>0.0</td>\n",
       "      <td>121.04</td>\n",
       "    </tr>\n",
       "    <tr>\n",
       "      <th>2013-06-19 08:59:00</th>\n",
       "      <td>105.71</td>\n",
       "      <td>105.71</td>\n",
       "      <td>105.71</td>\n",
       "      <td>105.71</td>\n",
       "      <td>0.0</td>\n",
       "      <td>0.0</td>\n",
       "      <td>105.71</td>\n",
       "    </tr>\n",
       "    <tr>\n",
       "      <th>2013-06-22 19:39:00</th>\n",
       "      <td>101.16</td>\n",
       "      <td>101.16</td>\n",
       "      <td>101.16</td>\n",
       "      <td>101.16</td>\n",
       "      <td>0.0</td>\n",
       "      <td>0.0</td>\n",
       "      <td>101.16</td>\n",
       "    </tr>\n",
       "    <tr>\n",
       "      <th>2013-06-24 20:36:00</th>\n",
       "      <td>98.88</td>\n",
       "      <td>98.88</td>\n",
       "      <td>98.88</td>\n",
       "      <td>98.88</td>\n",
       "      <td>0.0</td>\n",
       "      <td>0.0</td>\n",
       "      <td>98.88</td>\n",
       "    </tr>\n",
       "    <tr>\n",
       "      <th>2013-06-26 20:50:00</th>\n",
       "      <td>99.17</td>\n",
       "      <td>99.17</td>\n",
       "      <td>99.17</td>\n",
       "      <td>99.17</td>\n",
       "      <td>0.0</td>\n",
       "      <td>0.0</td>\n",
       "      <td>99.17</td>\n",
       "    </tr>\n",
       "    <tr>\n",
       "      <th>2013-06-27 09:13:00</th>\n",
       "      <td>98.40</td>\n",
       "      <td>98.40</td>\n",
       "      <td>98.40</td>\n",
       "      <td>98.40</td>\n",
       "      <td>0.0</td>\n",
       "      <td>0.0</td>\n",
       "      <td>98.40</td>\n",
       "    </tr>\n",
       "    <tr>\n",
       "      <th>2013-06-30 14:40:00</th>\n",
       "      <td>89.20</td>\n",
       "      <td>89.20</td>\n",
       "      <td>89.20</td>\n",
       "      <td>89.20</td>\n",
       "      <td>0.0</td>\n",
       "      <td>0.0</td>\n",
       "      <td>89.20</td>\n",
       "    </tr>\n",
       "    <tr>\n",
       "      <th>2013-07-04 06:58:00</th>\n",
       "      <td>74.42</td>\n",
       "      <td>74.42</td>\n",
       "      <td>74.42</td>\n",
       "      <td>74.42</td>\n",
       "      <td>0.0</td>\n",
       "      <td>0.0</td>\n",
       "      <td>74.42</td>\n",
       "    </tr>\n",
       "    <tr>\n",
       "      <th>2013-10-03 10:02:00</th>\n",
       "      <td>110.52</td>\n",
       "      <td>110.52</td>\n",
       "      <td>110.52</td>\n",
       "      <td>110.52</td>\n",
       "      <td>0.0</td>\n",
       "      <td>0.0</td>\n",
       "      <td>110.52</td>\n",
       "    </tr>\n",
       "    <tr>\n",
       "      <th>2014-01-09 06:37:00</th>\n",
       "      <td>834.89</td>\n",
       "      <td>834.89</td>\n",
       "      <td>834.89</td>\n",
       "      <td>834.89</td>\n",
       "      <td>0.0</td>\n",
       "      <td>0.0</td>\n",
       "      <td>834.89</td>\n",
       "    </tr>\n",
       "    <tr>\n",
       "      <th>2014-03-25 09:50:00</th>\n",
       "      <td>573.91</td>\n",
       "      <td>573.91</td>\n",
       "      <td>573.91</td>\n",
       "      <td>573.91</td>\n",
       "      <td>0.0</td>\n",
       "      <td>0.0</td>\n",
       "      <td>573.91</td>\n",
       "    </tr>\n",
       "    <tr>\n",
       "      <th>2017-08-14 01:08:00</th>\n",
       "      <td>4068.49</td>\n",
       "      <td>4068.49</td>\n",
       "      <td>4068.49</td>\n",
       "      <td>4068.49</td>\n",
       "      <td>0.0</td>\n",
       "      <td>0.0</td>\n",
       "      <td>4068.49</td>\n",
       "    </tr>\n",
       "  </tbody>\n",
       "</table>\n",
       "</div>"
      ],
      "text/plain": [
       "                        Open     High      Low    Close  Volume_(BTC)  \\\n",
       "Timestamp                                                               \n",
       "2012-05-21 10:28:00     5.08     5.08     5.08     5.08           0.0   \n",
       "2012-08-27 10:49:00    11.92    11.92    11.92    11.92           0.0   \n",
       "2013-03-30 17:08:00    92.21    92.21    92.21    92.21           0.0   \n",
       "2013-05-22 01:09:00   118.00   118.00   118.00   118.00           0.0   \n",
       "2013-06-06 01:52:00   121.04   121.04   121.04   121.04           0.0   \n",
       "2013-06-19 08:59:00   105.71   105.71   105.71   105.71           0.0   \n",
       "2013-06-22 19:39:00   101.16   101.16   101.16   101.16           0.0   \n",
       "2013-06-24 20:36:00    98.88    98.88    98.88    98.88           0.0   \n",
       "2013-06-26 20:50:00    99.17    99.17    99.17    99.17           0.0   \n",
       "2013-06-27 09:13:00    98.40    98.40    98.40    98.40           0.0   \n",
       "2013-06-30 14:40:00    89.20    89.20    89.20    89.20           0.0   \n",
       "2013-07-04 06:58:00    74.42    74.42    74.42    74.42           0.0   \n",
       "2013-10-03 10:02:00   110.52   110.52   110.52   110.52           0.0   \n",
       "2014-01-09 06:37:00   834.89   834.89   834.89   834.89           0.0   \n",
       "2014-03-25 09:50:00   573.91   573.91   573.91   573.91           0.0   \n",
       "2017-08-14 01:08:00  4068.49  4068.49  4068.49  4068.49           0.0   \n",
       "\n",
       "                     Volume_(Currency)  Weighted_Price  \n",
       "Timestamp                                               \n",
       "2012-05-21 10:28:00                0.0            5.08  \n",
       "2012-08-27 10:49:00                0.0           11.92  \n",
       "2013-03-30 17:08:00                0.0           92.21  \n",
       "2013-05-22 01:09:00                0.0          118.00  \n",
       "2013-06-06 01:52:00                0.0          121.04  \n",
       "2013-06-19 08:59:00                0.0          105.71  \n",
       "2013-06-22 19:39:00                0.0          101.16  \n",
       "2013-06-24 20:36:00                0.0           98.88  \n",
       "2013-06-26 20:50:00                0.0           99.17  \n",
       "2013-06-27 09:13:00                0.0           98.40  \n",
       "2013-06-30 14:40:00                0.0           89.20  \n",
       "2013-07-04 06:58:00                0.0           74.42  \n",
       "2013-10-03 10:02:00                0.0          110.52  \n",
       "2014-01-09 06:37:00                0.0          834.89  \n",
       "2014-03-25 09:50:00                0.0          573.91  \n",
       "2017-08-14 01:08:00                0.0         4068.49  "
      ]
     },
     "execution_count": 9,
     "metadata": {},
     "output_type": "execute_result"
    }
   ],
   "source": [
    "bitcoin_df[bitcoin_df['Volume_(BTC)'] == 0]"
   ]
  },
  {
   "cell_type": "markdown",
   "id": "103eb809",
   "metadata": {},
   "source": [
    "It seems when Volume(BTC) = 0, OHLC values are the same and Weighted_Price = OHLC constant values. Also, Volume(Currency) = 0. It looks like the situation that will occur when there are no tradings and it gives us a hint on how we will impute missing values."
   ]
  },
  {
   "cell_type": "markdown",
   "id": "2083b8a3",
   "metadata": {},
   "source": [
    "So, we expect that the difference between (Volume(Currency) / Volume(BTC)) and Weighted_Price should be equal to (Total number of observations) - (total number of Nan values) - (number of observations where Volume(BTC) = 0). Let;s check it out!"
   ]
  },
  {
   "cell_type": "code",
   "execution_count": null,
   "id": "d4f3698e",
   "metadata": {},
   "outputs": [
    {
     "data": {
      "text/plain": [
       "True"
      ]
     },
     "execution_count": 10,
     "metadata": {},
     "output_type": "execute_result"
    }
   ],
   "source": [
    "(np.round(np.abs(bitcoin_df['Volume_(Currency)'] / bitcoin_df['Volume_(BTC)'] - bitcoin_df['Weighted_Price']), \n",
    "    5) == 0).sum() == bitcoin_df.shape[0] - n_missing_val - bitcoin_df[bitcoin_df['Volume_(BTC)'] == 0].shape[0]"
   ]
  },
  {
   "cell_type": "code",
   "execution_count": null,
   "id": "c63c67ba",
   "metadata": {},
   "outputs": [],
   "source": [
    "# creating a dataframe that contains only rows with missing values\n",
    "missing_val_df = bitcoin_df[missing_val_mask.sum(axis=1) == 7].copy()\n",
    "\n",
    "# asserting that the number of rows in 'missing_val_df' is same as the number of rows with missing values in 'df'\n",
    "assert missing_val_df.shape[0] == n_missing_val "
   ]
  },
  {
   "cell_type": "code",
   "execution_count": null,
   "id": "e5aa6057",
   "metadata": {},
   "outputs": [
    {
     "data": {
      "text/html": [
       "<div>\n",
       "<style scoped>\n",
       "    .dataframe tbody tr th:only-of-type {\n",
       "        vertical-align: middle;\n",
       "    }\n",
       "\n",
       "    .dataframe tbody tr th {\n",
       "        vertical-align: top;\n",
       "    }\n",
       "\n",
       "    .dataframe thead th {\n",
       "        text-align: right;\n",
       "    }\n",
       "</style>\n",
       "<table border=\"1\" class=\"dataframe\">\n",
       "  <thead>\n",
       "    <tr style=\"text-align: right;\">\n",
       "      <th></th>\n",
       "      <th>Open</th>\n",
       "      <th>High</th>\n",
       "      <th>Low</th>\n",
       "      <th>Close</th>\n",
       "      <th>Volume_(BTC)</th>\n",
       "      <th>Volume_(Currency)</th>\n",
       "      <th>Weighted_Price</th>\n",
       "      <th>date</th>\n",
       "    </tr>\n",
       "    <tr>\n",
       "      <th>Timestamp</th>\n",
       "      <th></th>\n",
       "      <th></th>\n",
       "      <th></th>\n",
       "      <th></th>\n",
       "      <th></th>\n",
       "      <th></th>\n",
       "      <th></th>\n",
       "      <th></th>\n",
       "    </tr>\n",
       "  </thead>\n",
       "  <tbody>\n",
       "    <tr>\n",
       "      <th>2011-12-31 07:53:00</th>\n",
       "      <td>NaN</td>\n",
       "      <td>NaN</td>\n",
       "      <td>NaN</td>\n",
       "      <td>NaN</td>\n",
       "      <td>NaN</td>\n",
       "      <td>NaN</td>\n",
       "      <td>NaN</td>\n",
       "      <td>2011-12-31</td>\n",
       "    </tr>\n",
       "    <tr>\n",
       "      <th>2011-12-31 07:54:00</th>\n",
       "      <td>NaN</td>\n",
       "      <td>NaN</td>\n",
       "      <td>NaN</td>\n",
       "      <td>NaN</td>\n",
       "      <td>NaN</td>\n",
       "      <td>NaN</td>\n",
       "      <td>NaN</td>\n",
       "      <td>2011-12-31</td>\n",
       "    </tr>\n",
       "    <tr>\n",
       "      <th>2011-12-31 07:55:00</th>\n",
       "      <td>NaN</td>\n",
       "      <td>NaN</td>\n",
       "      <td>NaN</td>\n",
       "      <td>NaN</td>\n",
       "      <td>NaN</td>\n",
       "      <td>NaN</td>\n",
       "      <td>NaN</td>\n",
       "      <td>2011-12-31</td>\n",
       "    </tr>\n",
       "    <tr>\n",
       "      <th>2011-12-31 07:56:00</th>\n",
       "      <td>NaN</td>\n",
       "      <td>NaN</td>\n",
       "      <td>NaN</td>\n",
       "      <td>NaN</td>\n",
       "      <td>NaN</td>\n",
       "      <td>NaN</td>\n",
       "      <td>NaN</td>\n",
       "      <td>2011-12-31</td>\n",
       "    </tr>\n",
       "    <tr>\n",
       "      <th>2011-12-31 07:57:00</th>\n",
       "      <td>NaN</td>\n",
       "      <td>NaN</td>\n",
       "      <td>NaN</td>\n",
       "      <td>NaN</td>\n",
       "      <td>NaN</td>\n",
       "      <td>NaN</td>\n",
       "      <td>NaN</td>\n",
       "      <td>2011-12-31</td>\n",
       "    </tr>\n",
       "  </tbody>\n",
       "</table>\n",
       "</div>"
      ],
      "text/plain": [
       "                     Open  High  Low  Close  Volume_(BTC)  Volume_(Currency)  \\\n",
       "Timestamp                                                                      \n",
       "2011-12-31 07:53:00   NaN   NaN  NaN    NaN           NaN                NaN   \n",
       "2011-12-31 07:54:00   NaN   NaN  NaN    NaN           NaN                NaN   \n",
       "2011-12-31 07:55:00   NaN   NaN  NaN    NaN           NaN                NaN   \n",
       "2011-12-31 07:56:00   NaN   NaN  NaN    NaN           NaN                NaN   \n",
       "2011-12-31 07:57:00   NaN   NaN  NaN    NaN           NaN                NaN   \n",
       "\n",
       "                     Weighted_Price        date  \n",
       "Timestamp                                        \n",
       "2011-12-31 07:53:00             NaN  2011-12-31  \n",
       "2011-12-31 07:54:00             NaN  2011-12-31  \n",
       "2011-12-31 07:55:00             NaN  2011-12-31  \n",
       "2011-12-31 07:56:00             NaN  2011-12-31  \n",
       "2011-12-31 07:57:00             NaN  2011-12-31  "
      ]
     },
     "execution_count": 12,
     "metadata": {},
     "output_type": "execute_result"
    }
   ],
   "source": [
    "# creating a 'date' column that contains only the date\n",
    "missing_val_df['date'] = pd.Series(missing_val_df.index).apply(lambda x: x.date()).values\n",
    "missing_val_df.head()"
   ]
  },
  {
   "cell_type": "markdown",
   "id": "e8621dc0",
   "metadata": {},
   "source": [
    "### Let's check the duration of Nan values per day in minutes"
   ]
  },
  {
   "cell_type": "code",
   "execution_count": null,
   "id": "f52a6730",
   "metadata": {},
   "outputs": [],
   "source": [
    "daily_Nan_minute = missing_val_df.groupby('date').apply(lambda x: x.shape[0])"
   ]
  },
  {
   "cell_type": "code",
   "execution_count": null,
   "id": "34dc095b",
   "metadata": {},
   "outputs": [],
   "source": [
    "assert daily_Nan_minute.sum() == n_missing_val"
   ]
  },
  {
   "cell_type": "code",
   "execution_count": null,
   "id": "4acc7318",
   "metadata": {},
   "outputs": [
    {
     "data": {
      "text/plain": [
       "date\n",
       "2020-09-09     7\n",
       "2020-09-10     4\n",
       "2020-09-11     7\n",
       "2020-09-12    10\n",
       "2020-09-13    25\n",
       "dtype: int64"
      ]
     },
     "execution_count": 15,
     "metadata": {},
     "output_type": "execute_result"
    }
   ],
   "source": [
    "daily_Nan_minute.tail()"
   ]
  },
  {
   "cell_type": "code",
   "execution_count": null,
   "id": "0cd7362a",
   "metadata": {},
   "outputs": [
    {
     "name": "stdout",
     "output_type": "stream",
     "text": [
      "a day has 1440 minutes\n",
      "maximum duration of Nan values in minute is 1439mins which is 99.931% of the day\n",
      "minimum duration of Nan values in minute is 1mins which is 0.069% of the day\n"
     ]
    }
   ],
   "source": [
    "print('a day has {} minutes'.format(60*24))\n",
    "print('maximum duration of Nan values in minute is {}mins which is {}% of the day'.format( \\\n",
    "                daily_Nan_minute.max(), round(100*daily_Nan_minute.max() / (60*24), 3)))\n",
    "print('minimum duration of Nan values in minute is {}mins which is {}% of the day'.format( \\\n",
    "                daily_Nan_minute.min(), round(100*daily_Nan_minute.min() / (60*24), 3)))"
   ]
  },
  {
   "cell_type": "code",
   "execution_count": null,
   "id": "41e0a27d",
   "metadata": {},
   "outputs": [
    {
     "data": {
      "text/html": [
       "<div>\n",
       "<style scoped>\n",
       "    .dataframe tbody tr th:only-of-type {\n",
       "        vertical-align: middle;\n",
       "    }\n",
       "\n",
       "    .dataframe tbody tr th {\n",
       "        vertical-align: top;\n",
       "    }\n",
       "\n",
       "    .dataframe thead th {\n",
       "        text-align: right;\n",
       "    }\n",
       "</style>\n",
       "<table border=\"1\" class=\"dataframe\">\n",
       "  <thead>\n",
       "    <tr style=\"text-align: right;\">\n",
       "      <th></th>\n",
       "      <th>Open</th>\n",
       "      <th>High</th>\n",
       "      <th>Low</th>\n",
       "      <th>Close</th>\n",
       "      <th>Volume_(BTC)</th>\n",
       "      <th>Volume_(Currency)</th>\n",
       "      <th>Weighted_Price</th>\n",
       "      <th>date</th>\n",
       "    </tr>\n",
       "    <tr>\n",
       "      <th>Timestamp</th>\n",
       "      <th></th>\n",
       "      <th></th>\n",
       "      <th></th>\n",
       "      <th></th>\n",
       "      <th></th>\n",
       "      <th></th>\n",
       "      <th></th>\n",
       "      <th></th>\n",
       "    </tr>\n",
       "  </thead>\n",
       "  <tbody>\n",
       "    <tr>\n",
       "      <th>2020-09-13 13:35:00</th>\n",
       "      <td>NaN</td>\n",
       "      <td>NaN</td>\n",
       "      <td>NaN</td>\n",
       "      <td>NaN</td>\n",
       "      <td>NaN</td>\n",
       "      <td>NaN</td>\n",
       "      <td>NaN</td>\n",
       "      <td>2020-09-13</td>\n",
       "    </tr>\n",
       "  </tbody>\n",
       "</table>\n",
       "</div>"
      ],
      "text/plain": [
       "                     Open  High  Low  Close  Volume_(BTC)  Volume_(Currency)  \\\n",
       "Timestamp                                                                      \n",
       "2020-09-13 13:35:00   NaN   NaN  NaN    NaN           NaN                NaN   \n",
       "\n",
       "                     Weighted_Price        date  \n",
       "Timestamp                                        \n",
       "2020-09-13 13:35:00             NaN  2020-09-13  "
      ]
     },
     "execution_count": 17,
     "metadata": {},
     "output_type": "execute_result"
    }
   ],
   "source": [
    "missing_val_df.tail(1) # checking the last time with Nan value"
   ]
  },
  {
   "cell_type": "code",
   "execution_count": null,
   "id": "169fd219",
   "metadata": {},
   "outputs": [
    {
     "name": "stdout",
     "output_type": "stream",
     "text": [
      "1st quartile of timestamp with Nan value is 2012-08-08 22:52:00\n",
      "median of timestamp with Nan value is 2013-05-18 14:39:00\n",
      "3rd quartile of timestamp with Nan value is 2015-08-23 20:01:00\n"
     ]
    }
   ],
   "source": [
    "print('1st quartile of timestamp with Nan value is {}'.format(missing_val_df.index[len(missing_val_df)//4]))\n",
    "print('median of timestamp with Nan value is {}'.format(missing_val_df.index[len(missing_val_df)//2]))\n",
    "print('3rd quartile of timestamp with Nan value is {}'.format(missing_val_df.index[3*(len(missing_val_df)//4)]))"
   ]
  },
  {
   "cell_type": "code",
   "execution_count": null,
   "id": "0f95a415",
   "metadata": {
    "scrolled": true
   },
   "outputs": [
    {
     "data": {
      "image/png": "[encoded data removed]",
      "text/plain": [
       "<Figure size 432x288 with 1 Axes>"
      ]
     },
     "metadata": {
      "needs_background": "light"
     },
     "output_type": "display_data"
    }
   ],
   "source": [
    "hist = plt.hist(missing_val_df.index) # checking the distribution of the Nan values"
   ]
  },
  {
   "cell_type": "markdown",
   "id": "c680097f",
   "metadata": {},
   "source": [
    "So we see that the Nan values are skewed to the left. Nan values are heavily present in past years than earlier years."
   ]
  },
  {
   "cell_type": "markdown",
   "id": "21a16fb3",
   "metadata": {},
   "source": [
    "### Let's see the reason for the missing values as stated by Zielak the provider of the dataset so we know how to handle them"
   ]
  },
  {
   "cell_type": "code",
   "execution_count": null,
   "id": "1fbeb518",
   "metadata": {},
   "outputs": [
    {
     "data": {
      "text/plain": [
       "Timestamp\n",
       "2011-12-31 07:53:00    60.0\n",
       "2011-12-31 07:54:00    60.0\n",
       "2011-12-31 07:55:00    60.0\n",
       "2011-12-31 07:56:00    60.0\n",
       "2011-12-31 07:57:00    60.0\n",
       "Name: time_col, dtype: float64"
      ]
     },
     "execution_count": 20,
     "metadata": {},
     "output_type": "execute_result"
    }
   ],
   "source": [
    "bitcoin_df['time_col'] = bitcoin_df.index\n",
    "# taking the first order difference to get the duration of Nan values\n",
    "\n",
    "time_jump = (bitcoin_df['time_col'] - bitcoin_df['time_col'].shift()).dropna() \n",
    "delta_time = time_jump.apply(lambda x: x.total_seconds()) # converts the duration to seconds\n",
    "\n",
    "delta_time.head()"
   ]
  },
  {
   "cell_type": "code",
   "execution_count": null,
   "id": "b3757a0a",
   "metadata": {},
   "outputs": [],
   "source": [
    "assert delta_time.shape[0] + 1 == bitcoin_df.shape[0] # confirming the number of rows"
   ]
  },
  {
   "cell_type": "code",
   "execution_count": null,
   "id": "cb9eb67b",
   "metadata": {},
   "outputs": [
    {
     "name": "stdout",
     "output_type": "stream",
     "text": [
      "There is 1 time jump\n",
      "There is 0 time contraction\n"
     ]
    }
   ],
   "source": [
    "print('There is {} time jump'.format((delta_time > 60).sum()))\n",
    "print('There is {} time contraction'.format((delta_time < 60).sum()))"
   ]
  },
  {
   "cell_type": "code",
   "execution_count": null,
   "id": "8d7a4592",
   "metadata": {},
   "outputs": [
    {
     "name": "stdout",
     "output_type": "stream",
     "text": [
      "time jump duration is 6473.0 minutes\n"
     ]
    }
   ],
   "source": [
    "jump_duration = delta_time[delta_time > 60].values[0]\n",
    "print('time jump duration is {} minutes'.format(round(jump_duration / 60, 3)))"
   ]
  },
  {
   "cell_type": "code",
   "execution_count": null,
   "id": "25441bc0",
   "metadata": {},
   "outputs": [
    {
     "data": {
      "text/html": [
       "<div>\n",
       "<style scoped>\n",
       "    .dataframe tbody tr th:only-of-type {\n",
       "        vertical-align: middle;\n",
       "    }\n",
       "\n",
       "    .dataframe tbody tr th {\n",
       "        vertical-align: top;\n",
       "    }\n",
       "\n",
       "    .dataframe thead th {\n",
       "        text-align: right;\n",
       "    }\n",
       "</style>\n",
       "<table border=\"1\" class=\"dataframe\">\n",
       "  <thead>\n",
       "    <tr style=\"text-align: right;\">\n",
       "      <th></th>\n",
       "      <th>Open</th>\n",
       "      <th>High</th>\n",
       "      <th>Low</th>\n",
       "      <th>Close</th>\n",
       "      <th>Volume_(BTC)</th>\n",
       "      <th>Volume_(Currency)</th>\n",
       "      <th>Weighted_Price</th>\n",
       "      <th>time_col</th>\n",
       "    </tr>\n",
       "    <tr>\n",
       "      <th>Timestamp</th>\n",
       "      <th></th>\n",
       "      <th></th>\n",
       "      <th></th>\n",
       "      <th></th>\n",
       "      <th></th>\n",
       "      <th></th>\n",
       "      <th></th>\n",
       "      <th></th>\n",
       "    </tr>\n",
       "  </thead>\n",
       "  <tbody>\n",
       "    <tr>\n",
       "      <th>2015-01-05 09:12:00</th>\n",
       "      <td>276.80</td>\n",
       "      <td>276.8</td>\n",
       "      <td>276.80</td>\n",
       "      <td>276.8</td>\n",
       "      <td>0.100000</td>\n",
       "      <td>27.680000</td>\n",
       "      <td>276.800000</td>\n",
       "      <td>2015-01-05 09:12:00</td>\n",
       "    </tr>\n",
       "    <tr>\n",
       "      <th>2015-01-09 21:05:00</th>\n",
       "      <td>272.45</td>\n",
       "      <td>305.0</td>\n",
       "      <td>272.45</td>\n",
       "      <td>291.1</td>\n",
       "      <td>175.837078</td>\n",
       "      <td>50502.066285</td>\n",
       "      <td>287.209426</td>\n",
       "      <td>2015-01-09 21:05:00</td>\n",
       "    </tr>\n",
       "  </tbody>\n",
       "</table>\n",
       "</div>"
      ],
      "text/plain": [
       "                       Open   High     Low  Close  Volume_(BTC)  \\\n",
       "Timestamp                                                         \n",
       "2015-01-05 09:12:00  276.80  276.8  276.80  276.8      0.100000   \n",
       "2015-01-09 21:05:00  272.45  305.0  272.45  291.1    175.837078   \n",
       "\n",
       "                     Volume_(Currency)  Weighted_Price            time_col  \n",
       "Timestamp                                                                   \n",
       "2015-01-05 09:12:00          27.680000      276.800000 2015-01-05 09:12:00  \n",
       "2015-01-09 21:05:00       50502.066285      287.209426 2015-01-09 21:05:00  "
      ]
     },
     "execution_count": 24,
     "metadata": {},
     "output_type": "execute_result"
    }
   ],
   "source": [
    "ind_of_time_jump = delta_time.index.get_loc(delta_time[delta_time > 60].index[0])\n",
    "time_jump_df = bitcoin_df.iloc[ind_of_time_jump: ind_of_time_jump+2]\n",
    "time_jump_df"
   ]
  },
  {
   "cell_type": "code",
   "execution_count": null,
   "id": "62dcc591",
   "metadata": {},
   "outputs": [
    {
     "name": "stdout",
     "output_type": "stream",
     "text": [
      "Total time jump in days is 4 days 11:53:00\n"
     ]
    }
   ],
   "source": [
    "print('Total time jump in days is {}'.format(time_jump_df.index[-1] - time_jump_df.index[0]))"
   ]
  },
  {
   "cell_type": "markdown",
   "id": "bb25d796",
   "metadata": {},
   "source": [
    "Although, there are more than one reasons for jumps in 'Timestamps' as stated by Zielak, one of worth noting is that \"it may be the exchange or its API was down or didn't exist. A jump of 4days 11hrs 53mins was observed which is 6,473mins (6,473 jumps). This jump is huge and we can conclude that it may not be due to error in data gathering rather, it may be due to a downtime in API or exchanges that don't exist."
   ]
  },
  {
   "cell_type": "markdown",
   "id": "0ed9fa8b",
   "metadata": {},
   "source": [
    "Let's check if there is any duplicate in 'Timestamp' values"
   ]
  },
  {
   "cell_type": "code",
   "execution_count": null,
   "id": "80954da7",
   "metadata": {
    "scrolled": true
   },
   "outputs": [
    {
     "data": {
      "text/plain": [
       "True"
      ]
     },
     "execution_count": 26,
     "metadata": {},
     "output_type": "execute_result"
    }
   ],
   "source": [
    "len(bitcoin_df['time_col'].unique()) == bitcoin_df.shape[0]"
   ]
  },
  {
   "cell_type": "markdown",
   "id": "9642ff90",
   "metadata": {},
   "source": [
    "So, we conclude that there are no duplicates in 'Timestamp' values!"
   ]
  },
  {
   "cell_type": "code",
   "execution_count": null,
   "id": "c7e0bc13",
   "metadata": {
    "scrolled": true
   },
   "outputs": [
    {
     "name": "stdout",
     "output_type": "stream",
     "text": [
      "the dataset spans for 3179 days 16:08:00\n"
     ]
    }
   ],
   "source": [
    "print('the dataset spans for {}'.format(bitcoin_df.index[-1] - bitcoin_df.index[0]))"
   ]
  },
  {
   "cell_type": "markdown",
   "id": "9ccec397",
   "metadata": {},
   "source": [
    "Let's now go back to the Nan values. this time, we will be handling them. since the cause of missingness is \"No trading activity\", it will be biased to use imputation methods like EMA or filling with a particular value since there was no trading activity in real sense.\n",
    "\n",
    "There are two best ways to handle missing values of this nature:\n",
    "\n",
    "By filling 'Volume(BTC)', and 'Volume(Currency)' columns with zeros since there was no trading activity. Then, we do forward fill for 'Close' column and fill 'Open', 'High', 'Low' and 'Weighted_Price' columns with the values of the 'Close' column to make it a constant (horizontal) line of that peroid of inactivity.\n",
    "Dropping the rows with Nan values because in actual sense, there was no trade for those periods.\n",
    "WE WILL BE USING THE FIRST APPROACH TO BUILD OUR MODEL"
   ]
  },
  {
   "cell_type": "markdown",
   "id": "814d7c77",
   "metadata": {},
   "source": [
    "### Imputation"
   ]
  },
  {
   "cell_type": "code",
   "execution_count": null,
   "id": "3603b57f",
   "metadata": {},
   "outputs": [],
   "source": [
    "# creating a function to impute a given dataframe\n",
    "def impute(df):\n",
    "    df_imputed = df.copy() # creating a copy of df to use for imputing\n",
    "    \n",
    "    # forward filling the 'Close' column\n",
    "    df_imputed['Close'].fillna(method='ffill', inplace=True)\n",
    "    \n",
    "    # imputing 'Volume_(BTC)' and 'Volume_(Currency)', with zeros\n",
    "    df_imputed[['Volume_(BTC)', 'Volume_(Currency)']] = \\\n",
    "    df_imputed[['Volume_(BTC)', 'Volume_(Currency)']].fillna(0)\n",
    "    \n",
    "    # copying the values of 'Close' column to the four columns of 'Open', 'High', 'Low' and 'Weighted_Price' \n",
    "    # that would later be used for imputing.\n",
    "    impute_cols = ['Open', 'High', 'Low', 'Weighted_Price']\n",
    "    impute_df = pd.DataFrame({k: df_imputed['Close'] for k in impute_cols})\n",
    "    \n",
    "    # imputing 'OHL' and 'Weighted_Price'\n",
    "    df_imputed[impute_cols] = df_imputed[impute_cols].fillna(impute_df)\n",
    "    \n",
    "    return df_imputed"
   ]
  },
  {
   "cell_type": "code",
   "execution_count": null,
   "id": "832eb4b8",
   "metadata": {},
   "outputs": [
    {
     "data": {
      "text/html": [
       "<div>\n",
       "<style scoped>\n",
       "    .dataframe tbody tr th:only-of-type {\n",
       "        vertical-align: middle;\n",
       "    }\n",
       "\n",
       "    .dataframe tbody tr th {\n",
       "        vertical-align: top;\n",
       "    }\n",
       "\n",
       "    .dataframe thead th {\n",
       "        text-align: right;\n",
       "    }\n",
       "</style>\n",
       "<table border=\"1\" class=\"dataframe\">\n",
       "  <thead>\n",
       "    <tr style=\"text-align: right;\">\n",
       "      <th></th>\n",
       "      <th>Open</th>\n",
       "      <th>High</th>\n",
       "      <th>Low</th>\n",
       "      <th>Close</th>\n",
       "      <th>Volume_(BTC)</th>\n",
       "      <th>Volume_(Currency)</th>\n",
       "      <th>Weighted_Price</th>\n",
       "      <th>time_col</th>\n",
       "    </tr>\n",
       "    <tr>\n",
       "      <th>Timestamp</th>\n",
       "      <th></th>\n",
       "      <th></th>\n",
       "      <th></th>\n",
       "      <th></th>\n",
       "      <th></th>\n",
       "      <th></th>\n",
       "      <th></th>\n",
       "      <th></th>\n",
       "    </tr>\n",
       "  </thead>\n",
       "  <tbody>\n",
       "    <tr>\n",
       "      <th>2011-12-31 07:52:00</th>\n",
       "      <td>4.39</td>\n",
       "      <td>4.39</td>\n",
       "      <td>4.39</td>\n",
       "      <td>4.39</td>\n",
       "      <td>0.455581</td>\n",
       "      <td>2.0</td>\n",
       "      <td>4.39</td>\n",
       "      <td>2011-12-31 07:52:00</td>\n",
       "    </tr>\n",
       "    <tr>\n",
       "      <th>2011-12-31 07:53:00</th>\n",
       "      <td>4.39</td>\n",
       "      <td>4.39</td>\n",
       "      <td>4.39</td>\n",
       "      <td>4.39</td>\n",
       "      <td>0.000000</td>\n",
       "      <td>0.0</td>\n",
       "      <td>4.39</td>\n",
       "      <td>2011-12-31 07:53:00</td>\n",
       "    </tr>\n",
       "    <tr>\n",
       "      <th>2011-12-31 07:54:00</th>\n",
       "      <td>4.39</td>\n",
       "      <td>4.39</td>\n",
       "      <td>4.39</td>\n",
       "      <td>4.39</td>\n",
       "      <td>0.000000</td>\n",
       "      <td>0.0</td>\n",
       "      <td>4.39</td>\n",
       "      <td>2011-12-31 07:54:00</td>\n",
       "    </tr>\n",
       "    <tr>\n",
       "      <th>2011-12-31 07:55:00</th>\n",
       "      <td>4.39</td>\n",
       "      <td>4.39</td>\n",
       "      <td>4.39</td>\n",
       "      <td>4.39</td>\n",
       "      <td>0.000000</td>\n",
       "      <td>0.0</td>\n",
       "      <td>4.39</td>\n",
       "      <td>2011-12-31 07:55:00</td>\n",
       "    </tr>\n",
       "    <tr>\n",
       "      <th>2011-12-31 07:56:00</th>\n",
       "      <td>4.39</td>\n",
       "      <td>4.39</td>\n",
       "      <td>4.39</td>\n",
       "      <td>4.39</td>\n",
       "      <td>0.000000</td>\n",
       "      <td>0.0</td>\n",
       "      <td>4.39</td>\n",
       "      <td>2011-12-31 07:56:00</td>\n",
       "    </tr>\n",
       "  </tbody>\n",
       "</table>\n",
       "</div>"
      ],
      "text/plain": [
       "                     Open  High   Low  Close  Volume_(BTC)  Volume_(Currency)  \\\n",
       "Timestamp                                                                       \n",
       "2011-12-31 07:52:00  4.39  4.39  4.39   4.39      0.455581                2.0   \n",
       "2011-12-31 07:53:00  4.39  4.39  4.39   4.39      0.000000                0.0   \n",
       "2011-12-31 07:54:00  4.39  4.39  4.39   4.39      0.000000                0.0   \n",
       "2011-12-31 07:55:00  4.39  4.39  4.39   4.39      0.000000                0.0   \n",
       "2011-12-31 07:56:00  4.39  4.39  4.39   4.39      0.000000                0.0   \n",
       "\n",
       "                     Weighted_Price            time_col  \n",
       "Timestamp                                                \n",
       "2011-12-31 07:52:00            4.39 2011-12-31 07:52:00  \n",
       "2011-12-31 07:53:00            4.39 2011-12-31 07:53:00  \n",
       "2011-12-31 07:54:00            4.39 2011-12-31 07:54:00  \n",
       "2011-12-31 07:55:00            4.39 2011-12-31 07:55:00  \n",
       "2011-12-31 07:56:00            4.39 2011-12-31 07:56:00  "
      ]
     },
     "execution_count": 29,
     "metadata": {},
     "output_type": "execute_result"
    }
   ],
   "source": [
    "bitcoin_df_imputed = impute(bitcoin_df) # imputes 'bitcoin_df'\n",
    "bitcoin_df_imputed.head()"
   ]
  },
  {
   "cell_type": "code",
   "execution_count": null,
   "id": "1c0e8578",
   "metadata": {},
   "outputs": [
    {
     "name": "stdout",
     "output_type": "stream",
     "text": [
      "(4572257, 8)\n"
     ]
    },
    {
     "data": {
      "text/plain": [
       "Open                 0\n",
       "High                 0\n",
       "Low                  0\n",
       "Close                0\n",
       "Volume_(BTC)         0\n",
       "Volume_(Currency)    0\n",
       "Weighted_Price       0\n",
       "time_col             0\n",
       "dtype: int64"
      ]
     },
     "execution_count": 30,
     "metadata": {},
     "output_type": "execute_result"
    }
   ],
   "source": [
    "print(bitcoin_df_imputed.shape)\n",
    "bitcoin_df_imputed.isnull().sum()"
   ]
  },
  {
   "cell_type": "code",
   "execution_count": null,
   "id": "dbed390e",
   "metadata": {},
   "outputs": [],
   "source": [
    "# making a list of all columns apart from 'time_col' column and'Weighted_Price' column\n",
    "cols = list(bitcoin_df_imputed.columns[:-2])\n",
    "\n",
    "# creating the appropriate subplot indices for the cols to be used for making plots\n",
    "ind = list(range(1, 7))"
   ]
  },
  {
   "cell_type": "markdown",
   "id": "e04fa2fe",
   "metadata": {},
   "source": [
    "Let's create a function that would plot the columns with 'Timestamp' for a given dataframe"
   ]
  },
  {
   "cell_type": "code",
   "execution_count": null,
   "id": "824f1266",
   "metadata": {},
   "outputs": [],
   "source": [
    "def plot_series_of_each_column(d_f, cols=cols):\n",
    "    fig = plt.figure(figsize=(18, 12))\n",
    "    for i, col in zip(ind, cols):\n",
    "        a = fig.add_subplot(4, 2, i)\n",
    "        plt.xlabel('year')\n",
    "        plt.ylabel(col)\n",
    "        plt.plot(d_f.index, d_f[col], '-')\n",
    "        plt.grid()\n",
    "    \n",
    "    a = fig.add_subplot(4, 1, 4)\n",
    "    plt.xlabel('year')\n",
    "    plt.ylabel('Weighted_Price')\n",
    "    plt.plot(d_f.index, d_f['Weighted_Price'], '-')\n",
    "    plt.grid()"
   ]
  },
  {
   "cell_type": "code",
   "execution_count": null,
   "id": "99928479",
   "metadata": {},
   "outputs": [
    {
     "data": {
      "image/png": "[encoded data removed]",
      "text/plain": [
       "<Figure size 1296x864 with 7 Axes>"
      ]
     },
     "metadata": {
      "needs_background": "light"
     },
     "output_type": "display_data"
    }
   ],
   "source": [
    "plot_series_of_each_column(bitcoin_df_imputed)"
   ]
  },
  {
   "cell_type": "markdown",
   "id": "9a1ae78c",
   "metadata": {},
   "source": [
    "## Resampling"
   ]
  },
  {
   "cell_type": "markdown",
   "id": "35e306e4",
   "metadata": {},
   "source": [
    "### resampling to a daily time frame"
   ]
  },
  {
   "cell_type": "code",
   "execution_count": null,
   "id": "7bfeb535",
   "metadata": {},
   "outputs": [],
   "source": [
    "daily_Open = bitcoin_df_imputed['Open'].resample('D').first()\n",
    "daily_High = bitcoin_df_imputed['High'].resample('D').max()\n",
    "daily_Low = bitcoin_df_imputed['Low'].resample('D').min()\n",
    "daily_Close = bitcoin_df_imputed['Close'].resample('D').last()\n",
    "daily_Volume_BTC = bitcoin_df_imputed['Volume_(BTC)'].resample('D').sum()\n",
    "daily_Volume_Currency = bitcoin_df_imputed['Volume_(Currency)'].resample('D').sum()"
   ]
  },
  {
   "cell_type": "code",
   "execution_count": null,
   "id": "16adbf4f",
   "metadata": {},
   "outputs": [
    {
     "data": {
      "text/html": [
       "<div>\n",
       "<style scoped>\n",
       "    .dataframe tbody tr th:only-of-type {\n",
       "        vertical-align: middle;\n",
       "    }\n",
       "\n",
       "    .dataframe tbody tr th {\n",
       "        vertical-align: top;\n",
       "    }\n",
       "\n",
       "    .dataframe thead th {\n",
       "        text-align: right;\n",
       "    }\n",
       "</style>\n",
       "<table border=\"1\" class=\"dataframe\">\n",
       "  <thead>\n",
       "    <tr style=\"text-align: right;\">\n",
       "      <th></th>\n",
       "      <th>Open</th>\n",
       "      <th>High</th>\n",
       "      <th>Low</th>\n",
       "      <th>Close</th>\n",
       "      <th>Volume_(BTC)</th>\n",
       "      <th>Volume_(Currency)</th>\n",
       "    </tr>\n",
       "    <tr>\n",
       "      <th>Timestamp</th>\n",
       "      <th></th>\n",
       "      <th></th>\n",
       "      <th></th>\n",
       "      <th></th>\n",
       "      <th></th>\n",
       "      <th></th>\n",
       "    </tr>\n",
       "  </thead>\n",
       "  <tbody>\n",
       "    <tr>\n",
       "      <th>2020-09-10</th>\n",
       "      <td>10221.76</td>\n",
       "      <td>10495.75</td>\n",
       "      <td>10220.00</td>\n",
       "      <td>10342.59</td>\n",
       "      <td>10223.191178</td>\n",
       "      <td>1.057199e+08</td>\n",
       "    </tr>\n",
       "    <tr>\n",
       "      <th>2020-09-11</th>\n",
       "      <td>10341.38</td>\n",
       "      <td>10409.44</td>\n",
       "      <td>10200.50</td>\n",
       "      <td>10393.04</td>\n",
       "      <td>5245.742445</td>\n",
       "      <td>5.403365e+07</td>\n",
       "    </tr>\n",
       "    <tr>\n",
       "      <th>2020-09-12</th>\n",
       "      <td>10400.46</td>\n",
       "      <td>10482.42</td>\n",
       "      <td>10275.00</td>\n",
       "      <td>10443.33</td>\n",
       "      <td>2509.239834</td>\n",
       "      <td>2.602602e+07</td>\n",
       "    </tr>\n",
       "    <tr>\n",
       "      <th>2020-09-13</th>\n",
       "      <td>10446.40</td>\n",
       "      <td>10576.78</td>\n",
       "      <td>10214.90</td>\n",
       "      <td>10334.78</td>\n",
       "      <td>4325.105565</td>\n",
       "      <td>4.476487e+07</td>\n",
       "    </tr>\n",
       "    <tr>\n",
       "      <th>2020-09-14</th>\n",
       "      <td>10338.82</td>\n",
       "      <td>10338.82</td>\n",
       "      <td>10332.37</td>\n",
       "      <td>10332.37</td>\n",
       "      <td>1.292006</td>\n",
       "      <td>1.334957e+04</td>\n",
       "    </tr>\n",
       "  </tbody>\n",
       "</table>\n",
       "</div>"
      ],
      "text/plain": [
       "                Open      High       Low     Close  Volume_(BTC)  \\\n",
       "Timestamp                                                          \n",
       "2020-09-10  10221.76  10495.75  10220.00  10342.59  10223.191178   \n",
       "2020-09-11  10341.38  10409.44  10200.50  10393.04   5245.742445   \n",
       "2020-09-12  10400.46  10482.42  10275.00  10443.33   2509.239834   \n",
       "2020-09-13  10446.40  10576.78  10214.90  10334.78   4325.105565   \n",
       "2020-09-14  10338.82  10338.82  10332.37  10332.37      1.292006   \n",
       "\n",
       "            Volume_(Currency)  \n",
       "Timestamp                      \n",
       "2020-09-10       1.057199e+08  \n",
       "2020-09-11       5.403365e+07  \n",
       "2020-09-12       2.602602e+07  \n",
       "2020-09-13       4.476487e+07  \n",
       "2020-09-14       1.334957e+04  "
      ]
     },
     "execution_count": 35,
     "metadata": {},
     "output_type": "execute_result"
    }
   ],
   "source": [
    "daily_df = pd.DataFrame({'Open': daily_Open, 'High': daily_High, 'Low': daily_Low, 'Close': daily_Close, \\\n",
    "                         'Volume_(BTC)': daily_Volume_BTC, 'Volume_(Currency)': daily_Volume_Currency})\n",
    "daily_df.tail()"
   ]
  },
  {
   "cell_type": "code",
   "execution_count": null,
   "id": "a5f2c240",
   "metadata": {},
   "outputs": [
    {
     "data": {
      "text/plain": [
       "3"
      ]
     },
     "execution_count": 36,
     "metadata": {},
     "output_type": "execute_result"
    }
   ],
   "source": [
    "(daily_df['Volume_(BTC)'] == 0).sum() # checks if daily_Volume_BTC = 0 so we could calculate daily_Weighted_Price"
   ]
  },
  {
   "cell_type": "markdown",
   "id": "22e0efe3",
   "metadata": {},
   "source": [
    "### checking fo Nan values"
   ]
  },
  {
   "cell_type": "code",
   "execution_count": null,
   "id": "d11ff041",
   "metadata": {
    "scrolled": true
   },
   "outputs": [
    {
     "data": {
      "text/plain": [
       "Open                 3\n",
       "High                 3\n",
       "Low                  3\n",
       "Close                3\n",
       "Volume_(BTC)         0\n",
       "Volume_(Currency)    0\n",
       "dtype: int64"
      ]
     },
     "execution_count": 37,
     "metadata": {},
     "output_type": "execute_result"
    }
   ],
   "source": [
    "daily_df.isnull().sum()"
   ]
  },
  {
   "cell_type": "code",
   "execution_count": null,
   "id": "54519544",
   "metadata": {},
   "outputs": [
    {
     "data": {
      "text/html": [
       "<div>\n",
       "<style scoped>\n",
       "    .dataframe tbody tr th:only-of-type {\n",
       "        vertical-align: middle;\n",
       "    }\n",
       "\n",
       "    .dataframe tbody tr th {\n",
       "        vertical-align: top;\n",
       "    }\n",
       "\n",
       "    .dataframe thead th {\n",
       "        text-align: right;\n",
       "    }\n",
       "</style>\n",
       "<table border=\"1\" class=\"dataframe\">\n",
       "  <thead>\n",
       "    <tr style=\"text-align: right;\">\n",
       "      <th></th>\n",
       "      <th>Open</th>\n",
       "      <th>High</th>\n",
       "      <th>Low</th>\n",
       "      <th>Close</th>\n",
       "      <th>Volume_(BTC)</th>\n",
       "      <th>Volume_(Currency)</th>\n",
       "    </tr>\n",
       "    <tr>\n",
       "      <th>Timestamp</th>\n",
       "      <th></th>\n",
       "      <th></th>\n",
       "      <th></th>\n",
       "      <th></th>\n",
       "      <th></th>\n",
       "      <th></th>\n",
       "    </tr>\n",
       "  </thead>\n",
       "  <tbody>\n",
       "    <tr>\n",
       "      <th>2015-01-06</th>\n",
       "      <td>NaN</td>\n",
       "      <td>NaN</td>\n",
       "      <td>NaN</td>\n",
       "      <td>NaN</td>\n",
       "      <td>0.0</td>\n",
       "      <td>0.0</td>\n",
       "    </tr>\n",
       "    <tr>\n",
       "      <th>2015-01-07</th>\n",
       "      <td>NaN</td>\n",
       "      <td>NaN</td>\n",
       "      <td>NaN</td>\n",
       "      <td>NaN</td>\n",
       "      <td>0.0</td>\n",
       "      <td>0.0</td>\n",
       "    </tr>\n",
       "    <tr>\n",
       "      <th>2015-01-08</th>\n",
       "      <td>NaN</td>\n",
       "      <td>NaN</td>\n",
       "      <td>NaN</td>\n",
       "      <td>NaN</td>\n",
       "      <td>0.0</td>\n",
       "      <td>0.0</td>\n",
       "    </tr>\n",
       "  </tbody>\n",
       "</table>\n",
       "</div>"
      ],
      "text/plain": [
       "            Open  High  Low  Close  Volume_(BTC)  Volume_(Currency)\n",
       "Timestamp                                                          \n",
       "2015-01-06   NaN   NaN  NaN    NaN           0.0                0.0\n",
       "2015-01-07   NaN   NaN  NaN    NaN           0.0                0.0\n",
       "2015-01-08   NaN   NaN  NaN    NaN           0.0                0.0"
      ]
     },
     "execution_count": 38,
     "metadata": {},
     "output_type": "execute_result"
    }
   ],
   "source": [
    "daily_df[daily_df.isnull().sum(axis=1) == 4] # pulling out the Nan values"
   ]
  },
  {
   "cell_type": "code",
   "execution_count": null,
   "id": "4a519f56",
   "metadata": {},
   "outputs": [
    {
     "data": {
      "text/html": [
       "<div>\n",
       "<style scoped>\n",
       "    .dataframe tbody tr th:only-of-type {\n",
       "        vertical-align: middle;\n",
       "    }\n",
       "\n",
       "    .dataframe tbody tr th {\n",
       "        vertical-align: top;\n",
       "    }\n",
       "\n",
       "    .dataframe thead th {\n",
       "        text-align: right;\n",
       "    }\n",
       "</style>\n",
       "<table border=\"1\" class=\"dataframe\">\n",
       "  <thead>\n",
       "    <tr style=\"text-align: right;\">\n",
       "      <th></th>\n",
       "      <th>Open</th>\n",
       "      <th>High</th>\n",
       "      <th>Low</th>\n",
       "      <th>Close</th>\n",
       "      <th>Volume_(BTC)</th>\n",
       "      <th>Volume_(Currency)</th>\n",
       "    </tr>\n",
       "    <tr>\n",
       "      <th>Timestamp</th>\n",
       "      <th></th>\n",
       "      <th></th>\n",
       "      <th></th>\n",
       "      <th></th>\n",
       "      <th></th>\n",
       "      <th></th>\n",
       "    </tr>\n",
       "  </thead>\n",
       "  <tbody>\n",
       "    <tr>\n",
       "      <th>2015-01-06</th>\n",
       "      <td>NaN</td>\n",
       "      <td>NaN</td>\n",
       "      <td>NaN</td>\n",
       "      <td>NaN</td>\n",
       "      <td>0.0</td>\n",
       "      <td>0.0</td>\n",
       "    </tr>\n",
       "    <tr>\n",
       "      <th>2015-01-07</th>\n",
       "      <td>NaN</td>\n",
       "      <td>NaN</td>\n",
       "      <td>NaN</td>\n",
       "      <td>NaN</td>\n",
       "      <td>0.0</td>\n",
       "      <td>0.0</td>\n",
       "    </tr>\n",
       "    <tr>\n",
       "      <th>2015-01-08</th>\n",
       "      <td>NaN</td>\n",
       "      <td>NaN</td>\n",
       "      <td>NaN</td>\n",
       "      <td>NaN</td>\n",
       "      <td>0.0</td>\n",
       "      <td>0.0</td>\n",
       "    </tr>\n",
       "  </tbody>\n",
       "</table>\n",
       "</div>"
      ],
      "text/plain": [
       "            Open  High  Low  Close  Volume_(BTC)  Volume_(Currency)\n",
       "Timestamp                                                          \n",
       "2015-01-06   NaN   NaN  NaN    NaN           0.0                0.0\n",
       "2015-01-07   NaN   NaN  NaN    NaN           0.0                0.0\n",
       "2015-01-08   NaN   NaN  NaN    NaN           0.0                0.0"
      ]
     },
     "execution_count": 39,
     "metadata": {},
     "output_type": "execute_result"
    }
   ],
   "source": [
    "daily_df[daily_df[['Volume_(BTC)', 'Volume_(Currency)']].sum(axis=1) == 0] # pulling out rows where 'Volume(BTC)' \n",
    "                                                                           # and Volume(Currency)'s values are 0"
   ]
  },
  {
   "cell_type": "markdown",
   "id": "ac4f2d60",
   "metadata": {},
   "source": [
    "It appeared that 'Volume(BTC) and Volume(Currency)'s values are zero where the other columns have Nan values and it as a result of the time jump in the data."
   ]
  },
  {
   "cell_type": "code",
   "execution_count": null,
   "id": "e6381b84",
   "metadata": {},
   "outputs": [
    {
     "data": {
      "text/plain": [
       "Timestamp\n",
       "2011-12-31    4.462126\n",
       "2012-01-01    4.896730\n",
       "2012-01-02    5.000000\n",
       "2012-01-03    5.279641\n",
       "2012-01-04    5.297575\n",
       "Freq: D, Name: Weighted_Price, dtype: float64"
      ]
     },
     "execution_count": 40,
     "metadata": {},
     "output_type": "execute_result"
    }
   ],
   "source": [
    "# calculates 'Weighted_Price' for the daily time frame\n",
    "daily_df['Weighted_Price'] = daily_df['Volume_(Currency)'] / daily_df['Volume_(BTC)']\n",
    "daily_df['Weighted_Price'].head()"
   ]
  },
  {
   "cell_type": "code",
   "execution_count": null,
   "id": "59aeaa39",
   "metadata": {},
   "outputs": [
    {
     "data": {
      "text/html": [
       "<div>\n",
       "<style scoped>\n",
       "    .dataframe tbody tr th:only-of-type {\n",
       "        vertical-align: middle;\n",
       "    }\n",
       "\n",
       "    .dataframe tbody tr th {\n",
       "        vertical-align: top;\n",
       "    }\n",
       "\n",
       "    .dataframe thead th {\n",
       "        text-align: right;\n",
       "    }\n",
       "</style>\n",
       "<table border=\"1\" class=\"dataframe\">\n",
       "  <thead>\n",
       "    <tr style=\"text-align: right;\">\n",
       "      <th></th>\n",
       "      <th>Open</th>\n",
       "      <th>High</th>\n",
       "      <th>Low</th>\n",
       "      <th>Close</th>\n",
       "      <th>Volume_(BTC)</th>\n",
       "      <th>Volume_(Currency)</th>\n",
       "      <th>Weighted_Price</th>\n",
       "    </tr>\n",
       "    <tr>\n",
       "      <th>Timestamp</th>\n",
       "      <th></th>\n",
       "      <th></th>\n",
       "      <th></th>\n",
       "      <th></th>\n",
       "      <th></th>\n",
       "      <th></th>\n",
       "      <th></th>\n",
       "    </tr>\n",
       "  </thead>\n",
       "  <tbody>\n",
       "    <tr>\n",
       "      <th>2015-01-06</th>\n",
       "      <td>NaN</td>\n",
       "      <td>NaN</td>\n",
       "      <td>NaN</td>\n",
       "      <td>NaN</td>\n",
       "      <td>0.0</td>\n",
       "      <td>0.0</td>\n",
       "      <td>NaN</td>\n",
       "    </tr>\n",
       "    <tr>\n",
       "      <th>2015-01-07</th>\n",
       "      <td>NaN</td>\n",
       "      <td>NaN</td>\n",
       "      <td>NaN</td>\n",
       "      <td>NaN</td>\n",
       "      <td>0.0</td>\n",
       "      <td>0.0</td>\n",
       "      <td>NaN</td>\n",
       "    </tr>\n",
       "    <tr>\n",
       "      <th>2015-01-08</th>\n",
       "      <td>NaN</td>\n",
       "      <td>NaN</td>\n",
       "      <td>NaN</td>\n",
       "      <td>NaN</td>\n",
       "      <td>0.0</td>\n",
       "      <td>0.0</td>\n",
       "      <td>NaN</td>\n",
       "    </tr>\n",
       "  </tbody>\n",
       "</table>\n",
       "</div>"
      ],
      "text/plain": [
       "            Open  High  Low  Close  Volume_(BTC)  Volume_(Currency)  \\\n",
       "Timestamp                                                             \n",
       "2015-01-06   NaN   NaN  NaN    NaN           0.0                0.0   \n",
       "2015-01-07   NaN   NaN  NaN    NaN           0.0                0.0   \n",
       "2015-01-08   NaN   NaN  NaN    NaN           0.0                0.0   \n",
       "\n",
       "            Weighted_Price  \n",
       "Timestamp                   \n",
       "2015-01-06             NaN  \n",
       "2015-01-07             NaN  \n",
       "2015-01-08             NaN  "
      ]
     },
     "execution_count": 41,
     "metadata": {},
     "output_type": "execute_result"
    }
   ],
   "source": [
    "daily_df[daily_df['Volume_(BTC)'] == 0] # checks what happens to 'Weighted_Price' when 'Volume_(BTC)' = 0"
   ]
  },
  {
   "cell_type": "markdown",
   "id": "041e93ff",
   "metadata": {},
   "source": [
    "We see that WeightedPrice has Nan values where Volume(BTC) = 0 in the daily time frame. So, we will repeat our imputation process"
   ]
  },
  {
   "cell_type": "code",
   "execution_count": null,
   "id": "bf2f8b33",
   "metadata": {},
   "outputs": [
    {
     "data": {
      "text/html": [
       "<div>\n",
       "<style scoped>\n",
       "    .dataframe tbody tr th:only-of-type {\n",
       "        vertical-align: middle;\n",
       "    }\n",
       "\n",
       "    .dataframe tbody tr th {\n",
       "        vertical-align: top;\n",
       "    }\n",
       "\n",
       "    .dataframe thead th {\n",
       "        text-align: right;\n",
       "    }\n",
       "</style>\n",
       "<table border=\"1\" class=\"dataframe\">\n",
       "  <thead>\n",
       "    <tr style=\"text-align: right;\">\n",
       "      <th></th>\n",
       "      <th>Open</th>\n",
       "      <th>High</th>\n",
       "      <th>Low</th>\n",
       "      <th>Close</th>\n",
       "      <th>Volume_(BTC)</th>\n",
       "      <th>Volume_(Currency)</th>\n",
       "      <th>Weighted_Price</th>\n",
       "    </tr>\n",
       "    <tr>\n",
       "      <th>Timestamp</th>\n",
       "      <th></th>\n",
       "      <th></th>\n",
       "      <th></th>\n",
       "      <th></th>\n",
       "      <th></th>\n",
       "      <th></th>\n",
       "      <th></th>\n",
       "    </tr>\n",
       "  </thead>\n",
       "  <tbody>\n",
       "    <tr>\n",
       "      <th>2011-12-31</th>\n",
       "      <td>4.39</td>\n",
       "      <td>4.58</td>\n",
       "      <td>4.39</td>\n",
       "      <td>4.58</td>\n",
       "      <td>95.317878</td>\n",
       "      <td>425.320338</td>\n",
       "      <td>4.462126</td>\n",
       "    </tr>\n",
       "    <tr>\n",
       "      <th>2012-01-01</th>\n",
       "      <td>4.58</td>\n",
       "      <td>5.00</td>\n",
       "      <td>4.58</td>\n",
       "      <td>5.00</td>\n",
       "      <td>21.602000</td>\n",
       "      <td>105.779160</td>\n",
       "      <td>4.896730</td>\n",
       "    </tr>\n",
       "    <tr>\n",
       "      <th>2012-01-02</th>\n",
       "      <td>5.00</td>\n",
       "      <td>5.00</td>\n",
       "      <td>5.00</td>\n",
       "      <td>5.00</td>\n",
       "      <td>19.048000</td>\n",
       "      <td>95.240000</td>\n",
       "      <td>5.000000</td>\n",
       "    </tr>\n",
       "    <tr>\n",
       "      <th>2012-01-03</th>\n",
       "      <td>5.00</td>\n",
       "      <td>5.32</td>\n",
       "      <td>5.00</td>\n",
       "      <td>5.29</td>\n",
       "      <td>88.037281</td>\n",
       "      <td>464.805210</td>\n",
       "      <td>5.279641</td>\n",
       "    </tr>\n",
       "    <tr>\n",
       "      <th>2012-01-04</th>\n",
       "      <td>5.29</td>\n",
       "      <td>5.57</td>\n",
       "      <td>4.93</td>\n",
       "      <td>5.57</td>\n",
       "      <td>107.233260</td>\n",
       "      <td>568.076197</td>\n",
       "      <td>5.297575</td>\n",
       "    </tr>\n",
       "  </tbody>\n",
       "</table>\n",
       "</div>"
      ],
      "text/plain": [
       "            Open  High   Low  Close  Volume_(BTC)  Volume_(Currency)  \\\n",
       "Timestamp                                                              \n",
       "2011-12-31  4.39  4.58  4.39   4.58     95.317878         425.320338   \n",
       "2012-01-01  4.58  5.00  4.58   5.00     21.602000         105.779160   \n",
       "2012-01-02  5.00  5.00  5.00   5.00     19.048000          95.240000   \n",
       "2012-01-03  5.00  5.32  5.00   5.29     88.037281         464.805210   \n",
       "2012-01-04  5.29  5.57  4.93   5.57    107.233260         568.076197   \n",
       "\n",
       "            Weighted_Price  \n",
       "Timestamp                   \n",
       "2011-12-31        4.462126  \n",
       "2012-01-01        4.896730  \n",
       "2012-01-02        5.000000  \n",
       "2012-01-03        5.279641  \n",
       "2012-01-04        5.297575  "
      ]
     },
     "execution_count": 42,
     "metadata": {},
     "output_type": "execute_result"
    }
   ],
   "source": [
    "daily_df_imputed = impute(daily_df)\n",
    "daily_df_imputed.head()"
   ]
  },
  {
   "cell_type": "code",
   "execution_count": null,
   "id": "a5bc4723",
   "metadata": {},
   "outputs": [],
   "source": [
    "assert daily_df_imputed.isnull().sum().sum() == 0 # assert that Nan values have been handled."
   ]
  },
  {
   "cell_type": "code",
   "execution_count": null,
   "id": "f06e90f1",
   "metadata": {},
   "outputs": [
    {
     "name": "stdout",
     "output_type": "stream",
     "text": [
      "bitcoin_df_imputed has been downsampled from a minute timeframe of 4572257 observations to a daily timeframe of 3181 observations\n"
     ]
    }
   ],
   "source": [
    "print('bitcoin_df_imputed has been downsampled from a minute timeframe of {}'.format(bitcoin_df_imputed.shape[0])\\\n",
    "      + ' observations to a daily timeframe of {} observations'.format(daily_df_imputed.shape[0]))"
   ]
  },
  {
   "cell_type": "code",
   "execution_count": null,
   "id": "2979621d",
   "metadata": {
    "scrolled": true
   },
   "outputs": [
    {
     "data": {
      "text/html": [
       "<div>\n",
       "<style scoped>\n",
       "    .dataframe tbody tr th:only-of-type {\n",
       "        vertical-align: middle;\n",
       "    }\n",
       "\n",
       "    .dataframe tbody tr th {\n",
       "        vertical-align: top;\n",
       "    }\n",
       "\n",
       "    .dataframe thead th {\n",
       "        text-align: right;\n",
       "    }\n",
       "</style>\n",
       "<table border=\"1\" class=\"dataframe\">\n",
       "  <thead>\n",
       "    <tr style=\"text-align: right;\">\n",
       "      <th></th>\n",
       "      <th>Open</th>\n",
       "      <th>High</th>\n",
       "      <th>Low</th>\n",
       "      <th>Close</th>\n",
       "      <th>Volume_(BTC)</th>\n",
       "      <th>Volume_(Currency)</th>\n",
       "      <th>Weighted_Price</th>\n",
       "      <th>time_col</th>\n",
       "    </tr>\n",
       "    <tr>\n",
       "      <th>Timestamp</th>\n",
       "      <th></th>\n",
       "      <th></th>\n",
       "      <th></th>\n",
       "      <th></th>\n",
       "      <th></th>\n",
       "      <th></th>\n",
       "      <th></th>\n",
       "      <th></th>\n",
       "    </tr>\n",
       "  </thead>\n",
       "  <tbody>\n",
       "    <tr>\n",
       "      <th>2020-09-13 23:56:00</th>\n",
       "      <td>10324.35</td>\n",
       "      <td>10325.89</td>\n",
       "      <td>10324.35</td>\n",
       "      <td>10325.89</td>\n",
       "      <td>0.081143</td>\n",
       "      <td>837.754188</td>\n",
       "      <td>10324.419779</td>\n",
       "      <td>2020-09-13 23:56:00</td>\n",
       "    </tr>\n",
       "    <tr>\n",
       "      <th>2020-09-13 23:57:00</th>\n",
       "      <td>10331.41</td>\n",
       "      <td>10331.97</td>\n",
       "      <td>10326.68</td>\n",
       "      <td>10331.97</td>\n",
       "      <td>0.572817</td>\n",
       "      <td>5918.028741</td>\n",
       "      <td>10331.444396</td>\n",
       "      <td>2020-09-13 23:57:00</td>\n",
       "    </tr>\n",
       "    <tr>\n",
       "      <th>2020-09-13 23:58:00</th>\n",
       "      <td>10327.20</td>\n",
       "      <td>10331.47</td>\n",
       "      <td>10321.33</td>\n",
       "      <td>10331.47</td>\n",
       "      <td>2.489909</td>\n",
       "      <td>25711.238323</td>\n",
       "      <td>10326.175283</td>\n",
       "      <td>2020-09-13 23:58:00</td>\n",
       "    </tr>\n",
       "    <tr>\n",
       "      <th>2020-09-13 23:59:00</th>\n",
       "      <td>10330.02</td>\n",
       "      <td>10334.78</td>\n",
       "      <td>10328.64</td>\n",
       "      <td>10334.78</td>\n",
       "      <td>4.572660</td>\n",
       "      <td>47253.747619</td>\n",
       "      <td>10333.972651</td>\n",
       "      <td>2020-09-13 23:59:00</td>\n",
       "    </tr>\n",
       "    <tr>\n",
       "      <th>2020-09-14 00:00:00</th>\n",
       "      <td>10338.82</td>\n",
       "      <td>10338.82</td>\n",
       "      <td>10332.37</td>\n",
       "      <td>10332.37</td>\n",
       "      <td>1.292006</td>\n",
       "      <td>13349.565122</td>\n",
       "      <td>10332.429402</td>\n",
       "      <td>2020-09-14 00:00:00</td>\n",
       "    </tr>\n",
       "  </tbody>\n",
       "</table>\n",
       "</div>"
      ],
      "text/plain": [
       "                         Open      High       Low     Close  Volume_(BTC)  \\\n",
       "Timestamp                                                                   \n",
       "2020-09-13 23:56:00  10324.35  10325.89  10324.35  10325.89      0.081143   \n",
       "2020-09-13 23:57:00  10331.41  10331.97  10326.68  10331.97      0.572817   \n",
       "2020-09-13 23:58:00  10327.20  10331.47  10321.33  10331.47      2.489909   \n",
       "2020-09-13 23:59:00  10330.02  10334.78  10328.64  10334.78      4.572660   \n",
       "2020-09-14 00:00:00  10338.82  10338.82  10332.37  10332.37      1.292006   \n",
       "\n",
       "                     Volume_(Currency)  Weighted_Price            time_col  \n",
       "Timestamp                                                                   \n",
       "2020-09-13 23:56:00         837.754188    10324.419779 2020-09-13 23:56:00  \n",
       "2020-09-13 23:57:00        5918.028741    10331.444396 2020-09-13 23:57:00  \n",
       "2020-09-13 23:58:00       25711.238323    10326.175283 2020-09-13 23:58:00  \n",
       "2020-09-13 23:59:00       47253.747619    10333.972651 2020-09-13 23:59:00  \n",
       "2020-09-14 00:00:00       13349.565122    10332.429402 2020-09-14 00:00:00  "
      ]
     },
     "execution_count": 45,
     "metadata": {},
     "output_type": "execute_result"
    }
   ],
   "source": [
    "bitcoin_df.tail()"
   ]
  },
  {
   "cell_type": "markdown",
   "id": "59d05fd3",
   "metadata": {},
   "source": [
    "Since the actual data ended on 2020-09-14 00:00:00, we will do away with the last observation because that day has only one observation in the minute time frame."
   ]
  },
  {
   "cell_type": "code",
   "execution_count": null,
   "id": "289d97ff",
   "metadata": {},
   "outputs": [
    {
     "data": {
      "text/html": [
       "<div>\n",
       "<style scoped>\n",
       "    .dataframe tbody tr th:only-of-type {\n",
       "        vertical-align: middle;\n",
       "    }\n",
       "\n",
       "    .dataframe tbody tr th {\n",
       "        vertical-align: top;\n",
       "    }\n",
       "\n",
       "    .dataframe thead th {\n",
       "        text-align: right;\n",
       "    }\n",
       "</style>\n",
       "<table border=\"1\" class=\"dataframe\">\n",
       "  <thead>\n",
       "    <tr style=\"text-align: right;\">\n",
       "      <th></th>\n",
       "      <th>Open</th>\n",
       "      <th>High</th>\n",
       "      <th>Low</th>\n",
       "      <th>Close</th>\n",
       "      <th>Volume_(BTC)</th>\n",
       "      <th>Volume_(Currency)</th>\n",
       "      <th>Weighted_Price</th>\n",
       "    </tr>\n",
       "    <tr>\n",
       "      <th>Timestamp</th>\n",
       "      <th></th>\n",
       "      <th></th>\n",
       "      <th></th>\n",
       "      <th></th>\n",
       "      <th></th>\n",
       "      <th></th>\n",
       "      <th></th>\n",
       "    </tr>\n",
       "  </thead>\n",
       "  <tbody>\n",
       "    <tr>\n",
       "      <th>2020-09-09</th>\n",
       "      <td>10126.01</td>\n",
       "      <td>10353.39</td>\n",
       "      <td>9981.38</td>\n",
       "      <td>10232.80</td>\n",
       "      <td>5872.219512</td>\n",
       "      <td>5.988181e+07</td>\n",
       "      <td>10197.474480</td>\n",
       "    </tr>\n",
       "    <tr>\n",
       "      <th>2020-09-10</th>\n",
       "      <td>10221.76</td>\n",
       "      <td>10495.75</td>\n",
       "      <td>10220.00</td>\n",
       "      <td>10342.59</td>\n",
       "      <td>10223.191178</td>\n",
       "      <td>1.057199e+08</td>\n",
       "      <td>10341.181608</td>\n",
       "    </tr>\n",
       "    <tr>\n",
       "      <th>2020-09-11</th>\n",
       "      <td>10341.38</td>\n",
       "      <td>10409.44</td>\n",
       "      <td>10200.50</td>\n",
       "      <td>10393.04</td>\n",
       "      <td>5245.742445</td>\n",
       "      <td>5.403365e+07</td>\n",
       "      <td>10300.477849</td>\n",
       "    </tr>\n",
       "    <tr>\n",
       "      <th>2020-09-12</th>\n",
       "      <td>10400.46</td>\n",
       "      <td>10482.42</td>\n",
       "      <td>10275.00</td>\n",
       "      <td>10443.33</td>\n",
       "      <td>2509.239834</td>\n",
       "      <td>2.602602e+07</td>\n",
       "      <td>10372.073456</td>\n",
       "    </tr>\n",
       "    <tr>\n",
       "      <th>2020-09-13</th>\n",
       "      <td>10446.40</td>\n",
       "      <td>10576.78</td>\n",
       "      <td>10214.90</td>\n",
       "      <td>10334.78</td>\n",
       "      <td>4325.105565</td>\n",
       "      <td>4.476487e+07</td>\n",
       "      <td>10350.006043</td>\n",
       "    </tr>\n",
       "  </tbody>\n",
       "</table>\n",
       "</div>"
      ],
      "text/plain": [
       "                Open      High       Low     Close  Volume_(BTC)  \\\n",
       "Timestamp                                                          \n",
       "2020-09-09  10126.01  10353.39   9981.38  10232.80   5872.219512   \n",
       "2020-09-10  10221.76  10495.75  10220.00  10342.59  10223.191178   \n",
       "2020-09-11  10341.38  10409.44  10200.50  10393.04   5245.742445   \n",
       "2020-09-12  10400.46  10482.42  10275.00  10443.33   2509.239834   \n",
       "2020-09-13  10446.40  10576.78  10214.90  10334.78   4325.105565   \n",
       "\n",
       "            Volume_(Currency)  Weighted_Price  \n",
       "Timestamp                                      \n",
       "2020-09-09       5.988181e+07    10197.474480  \n",
       "2020-09-10       1.057199e+08    10341.181608  \n",
       "2020-09-11       5.403365e+07    10300.477849  \n",
       "2020-09-12       2.602602e+07    10372.073456  \n",
       "2020-09-13       4.476487e+07    10350.006043  "
      ]
     },
     "execution_count": 46,
     "metadata": {},
     "output_type": "execute_result"
    }
   ],
   "source": [
    "daily_df_imputed = daily_df_imputed.iloc[:-1].copy()\n",
    "daily_df_imputed.tail()"
   ]
  },
  {
   "cell_type": "markdown",
   "id": "0a658e54",
   "metadata": {},
   "source": [
    "### Plots of the daily resampled series time series"
   ]
  },
  {
   "cell_type": "code",
   "execution_count": null,
   "id": "53546a77",
   "metadata": {},
   "outputs": [
    {
     "data": {
      "image/png": "[encoded data removed]",
      "text/plain": [
       "<Figure size 1296x864 with 7 Axes>"
      ]
     },
     "metadata": {
      "needs_background": "light"
     },
     "output_type": "display_data"
    }
   ],
   "source": [
    "plot_series_of_each_column(daily_df_imputed)"
   ]
  },
  {
   "cell_type": "markdown",
   "id": "873e4d4f",
   "metadata": {},
   "source": [
    "## Correlation Test"
   ]
  },
  {
   "cell_type": "code",
   "execution_count": null,
   "id": "dc6bb6a3",
   "metadata": {
    "scrolled": true
   },
   "outputs": [
    {
     "data": {
      "text/html": [
       "<div>\n",
       "<style scoped>\n",
       "    .dataframe tbody tr th:only-of-type {\n",
       "        vertical-align: middle;\n",
       "    }\n",
       "\n",
       "    .dataframe tbody tr th {\n",
       "        vertical-align: top;\n",
       "    }\n",
       "\n",
       "    .dataframe thead th {\n",
       "        text-align: right;\n",
       "    }\n",
       "</style>\n",
       "<table border=\"1\" class=\"dataframe\">\n",
       "  <thead>\n",
       "    <tr style=\"text-align: right;\">\n",
       "      <th></th>\n",
       "      <th>Open</th>\n",
       "      <th>High</th>\n",
       "      <th>Low</th>\n",
       "      <th>Close</th>\n",
       "      <th>Volume_(BTC)</th>\n",
       "      <th>Volume_(Currency)</th>\n",
       "      <th>Weighted_Price</th>\n",
       "    </tr>\n",
       "  </thead>\n",
       "  <tbody>\n",
       "    <tr>\n",
       "      <th>Open</th>\n",
       "      <td>1.000000</td>\n",
       "      <td>0.999072</td>\n",
       "      <td>0.998390</td>\n",
       "      <td>0.998222</td>\n",
       "      <td>0.033280</td>\n",
       "      <td>0.754705</td>\n",
       "      <td>0.999105</td>\n",
       "    </tr>\n",
       "    <tr>\n",
       "      <th>High</th>\n",
       "      <td>0.999072</td>\n",
       "      <td>1.000000</td>\n",
       "      <td>0.997981</td>\n",
       "      <td>0.999180</td>\n",
       "      <td>0.042115</td>\n",
       "      <td>0.767056</td>\n",
       "      <td>0.999492</td>\n",
       "    </tr>\n",
       "    <tr>\n",
       "      <th>Low</th>\n",
       "      <td>0.998390</td>\n",
       "      <td>0.997981</td>\n",
       "      <td>1.000000</td>\n",
       "      <td>0.998956</td>\n",
       "      <td>0.016811</td>\n",
       "      <td>0.730672</td>\n",
       "      <td>0.999438</td>\n",
       "    </tr>\n",
       "    <tr>\n",
       "      <th>Close</th>\n",
       "      <td>0.998222</td>\n",
       "      <td>0.999180</td>\n",
       "      <td>0.998956</td>\n",
       "      <td>1.000000</td>\n",
       "      <td>0.030442</td>\n",
       "      <td>0.750599</td>\n",
       "      <td>0.999636</td>\n",
       "    </tr>\n",
       "    <tr>\n",
       "      <th>Volume_(BTC)</th>\n",
       "      <td>0.033280</td>\n",
       "      <td>0.042115</td>\n",
       "      <td>0.016811</td>\n",
       "      <td>0.030442</td>\n",
       "      <td>1.000000</td>\n",
       "      <td>0.352488</td>\n",
       "      <td>0.029791</td>\n",
       "    </tr>\n",
       "    <tr>\n",
       "      <th>Volume_(Currency)</th>\n",
       "      <td>0.754705</td>\n",
       "      <td>0.767056</td>\n",
       "      <td>0.730672</td>\n",
       "      <td>0.750599</td>\n",
       "      <td>0.352488</td>\n",
       "      <td>1.000000</td>\n",
       "      <td>0.749654</td>\n",
       "    </tr>\n",
       "    <tr>\n",
       "      <th>Weighted_Price</th>\n",
       "      <td>0.999105</td>\n",
       "      <td>0.999492</td>\n",
       "      <td>0.999438</td>\n",
       "      <td>0.999636</td>\n",
       "      <td>0.029791</td>\n",
       "      <td>0.749654</td>\n",
       "      <td>1.000000</td>\n",
       "    </tr>\n",
       "  </tbody>\n",
       "</table>\n",
       "</div>"
      ],
      "text/plain": [
       "                       Open      High       Low     Close  Volume_(BTC)  \\\n",
       "Open               1.000000  0.999072  0.998390  0.998222      0.033280   \n",
       "High               0.999072  1.000000  0.997981  0.999180      0.042115   \n",
       "Low                0.998390  0.997981  1.000000  0.998956      0.016811   \n",
       "Close              0.998222  0.999180  0.998956  1.000000      0.030442   \n",
       "Volume_(BTC)       0.033280  0.042115  0.016811  0.030442      1.000000   \n",
       "Volume_(Currency)  0.754705  0.767056  0.730672  0.750599      0.352488   \n",
       "Weighted_Price     0.999105  0.999492  0.999438  0.999636      0.029791   \n",
       "\n",
       "                   Volume_(Currency)  Weighted_Price  \n",
       "Open                        0.754705        0.999105  \n",
       "High                        0.767056        0.999492  \n",
       "Low                         0.730672        0.999438  \n",
       "Close                       0.750599        0.999636  \n",
       "Volume_(BTC)                0.352488        0.029791  \n",
       "Volume_(Currency)           1.000000        0.749654  \n",
       "Weighted_Price              0.749654        1.000000  "
      ]
     },
     "execution_count": 48,
     "metadata": {},
     "output_type": "execute_result"
    }
   ],
   "source": [
    "daily_df_imputed.corr() # correlation dataframe"
   ]
  },
  {
   "cell_type": "code",
   "execution_count": null,
   "id": "98c3a7b0",
   "metadata": {
    "scrolled": false
   },
   "outputs": [
    {
     "data": {
      "image/png": "[encoded data removed]",
      "text/plain": [
       "<Figure size 504x504 with 2 Axes>"
      ]
     },
     "metadata": {
      "needs_background": "light"
     },
     "output_type": "display_data"
    }
   ],
   "source": [
    "# correlation heatmap\n",
    "mask = np.triu(daily_df_imputed.corr())\n",
    "plt.figure(figsize=(7, 7)) \n",
    "sns.heatmap(daily_df_imputed.corr(), mask=mask, xticklabels=True, yticklabels=True, cmap='coolwarm', annot=True)\n",
    "#xticklabels and yticklabels are set to True to display all columns in the heatmap\n",
    "plt.show()"
   ]
  },
  {
   "cell_type": "markdown",
   "id": "e2f5e165",
   "metadata": {},
   "source": [
    "From the correlation heatmap, we see that OHLC and Weighted price are highly correlated"
   ]
  },
  {
   "cell_type": "code",
   "execution_count": null,
   "id": "9e655d64",
   "metadata": {},
   "outputs": [],
   "source": [
    "daily_OHLCWp = daily_df_imputed.iloc[:, [0, 1, 2, 3, 6]].copy() # we will use a daily time frame for the rest \n",
    "                                    # series. Here, we make a dataframe of the remaining 5 series"
   ]
  },
  {
   "cell_type": "code",
   "execution_count": null,
   "id": "5594c984",
   "metadata": {},
   "outputs": [
    {
     "data": {
      "text/html": [
       "<div>\n",
       "<style scoped>\n",
       "    .dataframe tbody tr th:only-of-type {\n",
       "        vertical-align: middle;\n",
       "    }\n",
       "\n",
       "    .dataframe tbody tr th {\n",
       "        vertical-align: top;\n",
       "    }\n",
       "\n",
       "    .dataframe thead th {\n",
       "        text-align: right;\n",
       "    }\n",
       "</style>\n",
       "<table border=\"1\" class=\"dataframe\">\n",
       "  <thead>\n",
       "    <tr style=\"text-align: right;\">\n",
       "      <th></th>\n",
       "      <th>Open</th>\n",
       "      <th>High</th>\n",
       "      <th>Low</th>\n",
       "      <th>Close</th>\n",
       "      <th>Weighted_Price</th>\n",
       "    </tr>\n",
       "    <tr>\n",
       "      <th>Timestamp</th>\n",
       "      <th></th>\n",
       "      <th></th>\n",
       "      <th></th>\n",
       "      <th></th>\n",
       "      <th></th>\n",
       "    </tr>\n",
       "  </thead>\n",
       "  <tbody>\n",
       "    <tr>\n",
       "      <th>2011-12-31</th>\n",
       "      <td>4.39</td>\n",
       "      <td>4.58</td>\n",
       "      <td>4.39</td>\n",
       "      <td>4.58</td>\n",
       "      <td>4.462126</td>\n",
       "    </tr>\n",
       "    <tr>\n",
       "      <th>2012-01-01</th>\n",
       "      <td>4.58</td>\n",
       "      <td>5.00</td>\n",
       "      <td>4.58</td>\n",
       "      <td>5.00</td>\n",
       "      <td>4.896730</td>\n",
       "    </tr>\n",
       "    <tr>\n",
       "      <th>2012-01-02</th>\n",
       "      <td>5.00</td>\n",
       "      <td>5.00</td>\n",
       "      <td>5.00</td>\n",
       "      <td>5.00</td>\n",
       "      <td>5.000000</td>\n",
       "    </tr>\n",
       "    <tr>\n",
       "      <th>2012-01-03</th>\n",
       "      <td>5.00</td>\n",
       "      <td>5.32</td>\n",
       "      <td>5.00</td>\n",
       "      <td>5.29</td>\n",
       "      <td>5.279641</td>\n",
       "    </tr>\n",
       "    <tr>\n",
       "      <th>2012-01-04</th>\n",
       "      <td>5.29</td>\n",
       "      <td>5.57</td>\n",
       "      <td>4.93</td>\n",
       "      <td>5.57</td>\n",
       "      <td>5.297575</td>\n",
       "    </tr>\n",
       "  </tbody>\n",
       "</table>\n",
       "</div>"
      ],
      "text/plain": [
       "            Open  High   Low  Close  Weighted_Price\n",
       "Timestamp                                          \n",
       "2011-12-31  4.39  4.58  4.39   4.58        4.462126\n",
       "2012-01-01  4.58  5.00  4.58   5.00        4.896730\n",
       "2012-01-02  5.00  5.00  5.00   5.00        5.000000\n",
       "2012-01-03  5.00  5.32  5.00   5.29        5.279641\n",
       "2012-01-04  5.29  5.57  4.93   5.57        5.297575"
      ]
     },
     "execution_count": 51,
     "metadata": {},
     "output_type": "execute_result"
    }
   ],
   "source": [
    "daily_OHLCWp.head()"
   ]
  },
  {
   "cell_type": "markdown",
   "id": "296193be",
   "metadata": {},
   "source": [
    "### ADF Test"
   ]
  },
  {
   "cell_type": "code",
   "execution_count": null,
   "id": "6b863904",
   "metadata": {},
   "outputs": [],
   "source": [
    "from statsmodels.tsa.stattools import adfuller"
   ]
  },
  {
   "cell_type": "code",
   "execution_count": null,
   "id": "8167a2f2",
   "metadata": {},
   "outputs": [],
   "source": [
    "# defining a function to print out adf results\n",
    "def get_adf_results(df):\n",
    "    results_cols = ['ADF_Stat', 'p_value', 'n_lags', 'n_observations', '1%', '5%', '10%']\n",
    "    results = {k: [] for k in results_cols}\n",
    "    \n",
    "    for col in df:\n",
    "    # for each column,\n",
    "        adf_result = adfuller(df[col]) # computes the adf result\n",
    "        \n",
    "        for i in range(len(results_cols)):\n",
    "            if i < 4:\n",
    "                results[results_cols[i]].append(adf_result[i])\n",
    "            else:\n",
    "                results[results_cols[i]].append(adf_result[4][results_cols[i]])\n",
    "                \n",
    "    return pd.DataFrame(results, index=df.columns)"
   ]
  },
  {
   "cell_type": "code",
   "execution_count": null,
   "id": "8f27d21b",
   "metadata": {
    "scrolled": true
   },
   "outputs": [
    {
     "data": {
      "text/html": [
       "<div>\n",
       "<style scoped>\n",
       "    .dataframe tbody tr th:only-of-type {\n",
       "        vertical-align: middle;\n",
       "    }\n",
       "\n",
       "    .dataframe tbody tr th {\n",
       "        vertical-align: top;\n",
       "    }\n",
       "\n",
       "    .dataframe thead th {\n",
       "        text-align: right;\n",
       "    }\n",
       "</style>\n",
       "<table border=\"1\" class=\"dataframe\">\n",
       "  <thead>\n",
       "    <tr style=\"text-align: right;\">\n",
       "      <th></th>\n",
       "      <th>ADF_Stat</th>\n",
       "      <th>p_value</th>\n",
       "      <th>n_lags</th>\n",
       "      <th>n_observations</th>\n",
       "      <th>1%</th>\n",
       "      <th>5%</th>\n",
       "      <th>10%</th>\n",
       "    </tr>\n",
       "  </thead>\n",
       "  <tbody>\n",
       "    <tr>\n",
       "      <th>Open</th>\n",
       "      <td>-1.304809</td>\n",
       "      <td>0.626969</td>\n",
       "      <td>29</td>\n",
       "      <td>3150</td>\n",
       "      <td>-3.432428</td>\n",
       "      <td>-2.862458</td>\n",
       "      <td>-2.567259</td>\n",
       "    </tr>\n",
       "    <tr>\n",
       "      <th>High</th>\n",
       "      <td>-1.353941</td>\n",
       "      <td>0.604148</td>\n",
       "      <td>28</td>\n",
       "      <td>3151</td>\n",
       "      <td>-3.432427</td>\n",
       "      <td>-2.862458</td>\n",
       "      <td>-2.567259</td>\n",
       "    </tr>\n",
       "    <tr>\n",
       "      <th>Low</th>\n",
       "      <td>-1.351391</td>\n",
       "      <td>0.605346</td>\n",
       "      <td>27</td>\n",
       "      <td>3152</td>\n",
       "      <td>-3.432426</td>\n",
       "      <td>-2.862457</td>\n",
       "      <td>-2.567258</td>\n",
       "    </tr>\n",
       "    <tr>\n",
       "      <th>Close</th>\n",
       "      <td>-1.288620</td>\n",
       "      <td>0.634362</td>\n",
       "      <td>29</td>\n",
       "      <td>3150</td>\n",
       "      <td>-3.432428</td>\n",
       "      <td>-2.862458</td>\n",
       "      <td>-2.567259</td>\n",
       "    </tr>\n",
       "    <tr>\n",
       "      <th>Weighted_Price</th>\n",
       "      <td>-1.261897</td>\n",
       "      <td>0.646419</td>\n",
       "      <td>29</td>\n",
       "      <td>3150</td>\n",
       "      <td>-3.432428</td>\n",
       "      <td>-2.862458</td>\n",
       "      <td>-2.567259</td>\n",
       "    </tr>\n",
       "  </tbody>\n",
       "</table>\n",
       "</div>"
      ],
      "text/plain": [
       "                ADF_Stat   p_value  n_lags  n_observations        1%  \\\n",
       "Open           -1.304809  0.626969      29            3150 -3.432428   \n",
       "High           -1.353941  0.604148      28            3151 -3.432427   \n",
       "Low            -1.351391  0.605346      27            3152 -3.432426   \n",
       "Close          -1.288620  0.634362      29            3150 -3.432428   \n",
       "Weighted_Price -1.261897  0.646419      29            3150 -3.432428   \n",
       "\n",
       "                      5%       10%  \n",
       "Open           -2.862458 -2.567259  \n",
       "High           -2.862458 -2.567259  \n",
       "Low            -2.862457 -2.567258  \n",
       "Close          -2.862458 -2.567259  \n",
       "Weighted_Price -2.862458 -2.567259  "
      ]
     },
     "execution_count": 54,
     "metadata": {},
     "output_type": "execute_result"
    }
   ],
   "source": [
    "get_adf_results(daily_OHLCWp)"
   ]
  },
  {
   "cell_type": "markdown",
   "id": "5813163a",
   "metadata": {},
   "source": [
    "from the results, we see that daily OHLC and Weighted_Price are not stationary"
   ]
  },
  {
   "cell_type": "markdown",
   "id": "de935d1e",
   "metadata": {},
   "source": [
    "## Cointegration Test"
   ]
  },
  {
   "cell_type": "code",
   "execution_count": null,
   "id": "48918e84",
   "metadata": {},
   "outputs": [],
   "source": [
    "from statsmodels.tsa.vector_ar.vecm import coint_johansen"
   ]
  },
  {
   "cell_type": "code",
   "execution_count": null,
   "id": "f13c6d70",
   "metadata": {},
   "outputs": [],
   "source": [
    "# defining a function that will print out cointegration results\n",
    "def get_coint_results(df, det_order=-1, k_ar_diff=1):\n",
    "    cj = coint_johansen(df, det_order, k_ar_diff)\n",
    "    \n",
    "    critical_trace = cj.trace_stat_crit_vals\n",
    "    critical_max_eigen = cj.max_eig_stat_crit_vals\n",
    "    eigen_vector = cj.evec[:, np.argmax(cj.eig)]\n",
    "    \n",
    "    results = {'Trace_stat': cj.lr1, '90% Trace': critical_trace[:, 0], '95% Trace': critical_trace[:, 1], \n",
    "               '99% Trace': critical_trace[:, 2], 'Max_eigen_stat': cj.lr2, '90% eigen': critical_max_eigen[:, 0], \n",
    "                '95% eigen': critical_max_eigen[:, 1], '99% eigen': critical_max_eigen[:, 2]}\n",
    "    \n",
    "    ind = ['r=0'] + ['r<='+str(i) for i in range(1, df.shape[1])]\n",
    "    \n",
    "    return pd.DataFrame(results, index=ind), eigen_vector"
   ]
  },
  {
   "cell_type": "code",
   "execution_count": null,
   "id": "3a95d0c2",
   "metadata": {
    "scrolled": true
   },
   "outputs": [
    {
     "data": {
      "text/html": [
       "<div>\n",
       "<style scoped>\n",
       "    .dataframe tbody tr th:only-of-type {\n",
       "        vertical-align: middle;\n",
       "    }\n",
       "\n",
       "    .dataframe tbody tr th {\n",
       "        vertical-align: top;\n",
       "    }\n",
       "\n",
       "    .dataframe thead th {\n",
       "        text-align: right;\n",
       "    }\n",
       "</style>\n",
       "<table border=\"1\" class=\"dataframe\">\n",
       "  <thead>\n",
       "    <tr style=\"text-align: right;\">\n",
       "      <th></th>\n",
       "      <th>Trace_stat</th>\n",
       "      <th>90% Trace</th>\n",
       "      <th>95% Trace</th>\n",
       "      <th>99% Trace</th>\n",
       "      <th>Max_eigen_stat</th>\n",
       "      <th>90% eigen</th>\n",
       "      <th>95% eigen</th>\n",
       "      <th>99% eigen</th>\n",
       "    </tr>\n",
       "  </thead>\n",
       "  <tbody>\n",
       "    <tr>\n",
       "      <th>r=0</th>\n",
       "      <td>5112.481603</td>\n",
       "      <td>56.2839</td>\n",
       "      <td>60.0627</td>\n",
       "      <td>67.6367</td>\n",
       "      <td>2132.342998</td>\n",
       "      <td>27.9160</td>\n",
       "      <td>30.4428</td>\n",
       "      <td>35.7359</td>\n",
       "    </tr>\n",
       "    <tr>\n",
       "      <th>r&lt;=1</th>\n",
       "      <td>2980.138605</td>\n",
       "      <td>37.0339</td>\n",
       "      <td>40.1749</td>\n",
       "      <td>46.5716</td>\n",
       "      <td>1417.817233</td>\n",
       "      <td>21.8370</td>\n",
       "      <td>24.1592</td>\n",
       "      <td>29.0609</td>\n",
       "    </tr>\n",
       "    <tr>\n",
       "      <th>r&lt;=2</th>\n",
       "      <td>1562.321372</td>\n",
       "      <td>21.7781</td>\n",
       "      <td>24.2761</td>\n",
       "      <td>29.5147</td>\n",
       "      <td>1161.917493</td>\n",
       "      <td>15.7175</td>\n",
       "      <td>17.7961</td>\n",
       "      <td>22.2519</td>\n",
       "    </tr>\n",
       "    <tr>\n",
       "      <th>r&lt;=3</th>\n",
       "      <td>400.403879</td>\n",
       "      <td>10.4741</td>\n",
       "      <td>12.3212</td>\n",
       "      <td>16.3640</td>\n",
       "      <td>400.137527</td>\n",
       "      <td>9.4748</td>\n",
       "      <td>11.2246</td>\n",
       "      <td>15.0923</td>\n",
       "    </tr>\n",
       "    <tr>\n",
       "      <th>r&lt;=4</th>\n",
       "      <td>0.266352</td>\n",
       "      <td>2.9762</td>\n",
       "      <td>4.1296</td>\n",
       "      <td>6.9406</td>\n",
       "      <td>0.266352</td>\n",
       "      <td>2.9762</td>\n",
       "      <td>4.1296</td>\n",
       "      <td>6.9406</td>\n",
       "    </tr>\n",
       "  </tbody>\n",
       "</table>\n",
       "</div>"
      ],
      "text/plain": [
       "       Trace_stat  90% Trace  95% Trace  99% Trace  Max_eigen_stat  90% eigen  \\\n",
       "r=0   5112.481603    56.2839    60.0627    67.6367     2132.342998    27.9160   \n",
       "r<=1  2980.138605    37.0339    40.1749    46.5716     1417.817233    21.8370   \n",
       "r<=2  1562.321372    21.7781    24.2761    29.5147     1161.917493    15.7175   \n",
       "r<=3   400.403879    10.4741    12.3212    16.3640      400.137527     9.4748   \n",
       "r<=4     0.266352     2.9762     4.1296     6.9406        0.266352     2.9762   \n",
       "\n",
       "      95% eigen  99% eigen  \n",
       "r=0     30.4428    35.7359  \n",
       "r<=1    24.1592    29.0609  \n",
       "r<=2    17.7961    22.2519  \n",
       "r<=3    11.2246    15.0923  \n",
       "r<=4     4.1296     6.9406  "
      ]
     },
     "execution_count": 57,
     "metadata": {},
     "output_type": "execute_result"
    }
   ],
   "source": [
    "coint_result_OHLCWp = get_coint_results(daily_OHLCWp) # gets cointegration results of OHLCWp\n",
    "coint_result_OHLCWp[0]"
   ]
  },
  {
   "cell_type": "markdown",
   "id": "7b7aef01",
   "metadata": {},
   "source": [
    "from the results, we see that OHLCWp are not cointegrating even to a threshold of 90%"
   ]
  },
  {
   "cell_type": "code",
   "execution_count": null,
   "id": "56607049",
   "metadata": {},
   "outputs": [
    {
     "data": {
      "text/html": [
       "<div>\n",
       "<style scoped>\n",
       "    .dataframe tbody tr th:only-of-type {\n",
       "        vertical-align: middle;\n",
       "    }\n",
       "\n",
       "    .dataframe tbody tr th {\n",
       "        vertical-align: top;\n",
       "    }\n",
       "\n",
       "    .dataframe thead th {\n",
       "        text-align: right;\n",
       "    }\n",
       "</style>\n",
       "<table border=\"1\" class=\"dataframe\">\n",
       "  <thead>\n",
       "    <tr style=\"text-align: right;\">\n",
       "      <th></th>\n",
       "      <th>ADF_Stat</th>\n",
       "      <th>p_value</th>\n",
       "      <th>n_lags</th>\n",
       "      <th>n_observations</th>\n",
       "      <th>1%</th>\n",
       "      <th>5%</th>\n",
       "      <th>10%</th>\n",
       "    </tr>\n",
       "  </thead>\n",
       "  <tbody>\n",
       "    <tr>\n",
       "      <th>Open</th>\n",
       "      <td>-1.718092</td>\n",
       "      <td>0.421816</td>\n",
       "      <td>23</td>\n",
       "      <td>3156</td>\n",
       "      <td>-3.432424</td>\n",
       "      <td>-2.862456</td>\n",
       "      <td>-2.567258</td>\n",
       "    </tr>\n",
       "    <tr>\n",
       "      <th>High</th>\n",
       "      <td>-1.784697</td>\n",
       "      <td>0.388085</td>\n",
       "      <td>24</td>\n",
       "      <td>3155</td>\n",
       "      <td>-3.432424</td>\n",
       "      <td>-2.862457</td>\n",
       "      <td>-2.567258</td>\n",
       "    </tr>\n",
       "    <tr>\n",
       "      <th>Low</th>\n",
       "      <td>-1.806958</td>\n",
       "      <td>0.377013</td>\n",
       "      <td>10</td>\n",
       "      <td>3169</td>\n",
       "      <td>-3.432415</td>\n",
       "      <td>-2.862452</td>\n",
       "      <td>-2.567256</td>\n",
       "    </tr>\n",
       "    <tr>\n",
       "      <th>Close</th>\n",
       "      <td>-1.785616</td>\n",
       "      <td>0.387626</td>\n",
       "      <td>17</td>\n",
       "      <td>3162</td>\n",
       "      <td>-3.432420</td>\n",
       "      <td>-2.862454</td>\n",
       "      <td>-2.567257</td>\n",
       "    </tr>\n",
       "    <tr>\n",
       "      <th>Weighted_Price</th>\n",
       "      <td>-1.687655</td>\n",
       "      <td>0.437484</td>\n",
       "      <td>20</td>\n",
       "      <td>3159</td>\n",
       "      <td>-3.432422</td>\n",
       "      <td>-2.862455</td>\n",
       "      <td>-2.567257</td>\n",
       "    </tr>\n",
       "  </tbody>\n",
       "</table>\n",
       "</div>"
      ],
      "text/plain": [
       "                ADF_Stat   p_value  n_lags  n_observations        1%  \\\n",
       "Open           -1.718092  0.421816      23            3156 -3.432424   \n",
       "High           -1.784697  0.388085      24            3155 -3.432424   \n",
       "Low            -1.806958  0.377013      10            3169 -3.432415   \n",
       "Close          -1.785616  0.387626      17            3162 -3.432420   \n",
       "Weighted_Price -1.687655  0.437484      20            3159 -3.432422   \n",
       "\n",
       "                      5%       10%  \n",
       "Open           -2.862456 -2.567258  \n",
       "High           -2.862457 -2.567258  \n",
       "Low            -2.862452 -2.567256  \n",
       "Close          -2.862454 -2.567257  \n",
       "Weighted_Price -2.862455 -2.567257  "
      ]
     },
     "execution_count": 58,
     "metadata": {},
     "output_type": "execute_result"
    }
   ],
   "source": [
    "get_adf_results(np.log(daily_OHLCWp)) # checks if the log transform of OHLCWp is stationary"
   ]
  },
  {
   "cell_type": "markdown",
   "id": "87088423",
   "metadata": {},
   "source": [
    "from the results, we see that the log transform of OHLCWp is not stationary also"
   ]
  },
  {
   "cell_type": "code",
   "execution_count": null,
   "id": "ad211c6e",
   "metadata": {},
   "outputs": [
    {
     "data": {
      "text/html": [
       "<div>\n",
       "<style scoped>\n",
       "    .dataframe tbody tr th:only-of-type {\n",
       "        vertical-align: middle;\n",
       "    }\n",
       "\n",
       "    .dataframe tbody tr th {\n",
       "        vertical-align: top;\n",
       "    }\n",
       "\n",
       "    .dataframe thead th {\n",
       "        text-align: right;\n",
       "    }\n",
       "</style>\n",
       "<table border=\"1\" class=\"dataframe\">\n",
       "  <thead>\n",
       "    <tr style=\"text-align: right;\">\n",
       "      <th></th>\n",
       "      <th>Trace_stat</th>\n",
       "      <th>90% Trace</th>\n",
       "      <th>95% Trace</th>\n",
       "      <th>99% Trace</th>\n",
       "      <th>Max_eigen_stat</th>\n",
       "      <th>90% eigen</th>\n",
       "      <th>95% eigen</th>\n",
       "      <th>99% eigen</th>\n",
       "    </tr>\n",
       "  </thead>\n",
       "  <tbody>\n",
       "    <tr>\n",
       "      <th>r=0</th>\n",
       "      <td>5115.793133</td>\n",
       "      <td>56.2839</td>\n",
       "      <td>60.0627</td>\n",
       "      <td>67.6367</td>\n",
       "      <td>2130.457705</td>\n",
       "      <td>27.9160</td>\n",
       "      <td>30.4428</td>\n",
       "      <td>35.7359</td>\n",
       "    </tr>\n",
       "    <tr>\n",
       "      <th>r&lt;=1</th>\n",
       "      <td>2985.335428</td>\n",
       "      <td>37.0339</td>\n",
       "      <td>40.1749</td>\n",
       "      <td>46.5716</td>\n",
       "      <td>1350.052259</td>\n",
       "      <td>21.8370</td>\n",
       "      <td>24.1592</td>\n",
       "      <td>29.0609</td>\n",
       "    </tr>\n",
       "    <tr>\n",
       "      <th>r&lt;=2</th>\n",
       "      <td>1635.283169</td>\n",
       "      <td>21.7781</td>\n",
       "      <td>24.2761</td>\n",
       "      <td>29.5147</td>\n",
       "      <td>1282.782771</td>\n",
       "      <td>15.7175</td>\n",
       "      <td>17.7961</td>\n",
       "      <td>22.2519</td>\n",
       "    </tr>\n",
       "    <tr>\n",
       "      <th>r&lt;=3</th>\n",
       "      <td>352.500399</td>\n",
       "      <td>10.4741</td>\n",
       "      <td>12.3212</td>\n",
       "      <td>16.3640</td>\n",
       "      <td>347.686300</td>\n",
       "      <td>9.4748</td>\n",
       "      <td>11.2246</td>\n",
       "      <td>15.0923</td>\n",
       "    </tr>\n",
       "    <tr>\n",
       "      <th>r&lt;=4</th>\n",
       "      <td>4.814099</td>\n",
       "      <td>2.9762</td>\n",
       "      <td>4.1296</td>\n",
       "      <td>6.9406</td>\n",
       "      <td>4.814099</td>\n",
       "      <td>2.9762</td>\n",
       "      <td>4.1296</td>\n",
       "      <td>6.9406</td>\n",
       "    </tr>\n",
       "  </tbody>\n",
       "</table>\n",
       "</div>"
      ],
      "text/plain": [
       "       Trace_stat  90% Trace  95% Trace  99% Trace  Max_eigen_stat  90% eigen  \\\n",
       "r=0   5115.793133    56.2839    60.0627    67.6367     2130.457705    27.9160   \n",
       "r<=1  2985.335428    37.0339    40.1749    46.5716     1350.052259    21.8370   \n",
       "r<=2  1635.283169    21.7781    24.2761    29.5147     1282.782771    15.7175   \n",
       "r<=3   352.500399    10.4741    12.3212    16.3640      347.686300     9.4748   \n",
       "r<=4     4.814099     2.9762     4.1296     6.9406        4.814099     2.9762   \n",
       "\n",
       "      95% eigen  99% eigen  \n",
       "r=0     30.4428    35.7359  \n",
       "r<=1    24.1592    29.0609  \n",
       "r<=2    17.7961    22.2519  \n",
       "r<=3    11.2246    15.0923  \n",
       "r<=4     4.1296     6.9406  "
      ]
     },
     "execution_count": 59,
     "metadata": {},
     "output_type": "execute_result"
    }
   ],
   "source": [
    "coint_result_log_OHLCWp = get_coint_results(np.log(daily_OHLCWp)) # checks if the log transform of OHLCWp are \n",
    "                                                              # cointegrating\n",
    "coint_result_log_OHLCWp[0]"
   ]
  },
  {
   "cell_type": "markdown",
   "id": "93b19421",
   "metadata": {},
   "source": [
    "from the results, we see that OHLCWp are cointegrating more than a threshold of 95%. So, there exist at least 5 cointegrating vectors(eigen vectors) when operated on the non-stationary OHLCWp, will make them stationary. Let's check them out!"
   ]
  },
  {
   "cell_type": "code",
   "execution_count": null,
   "id": "800488c9",
   "metadata": {},
   "outputs": [],
   "source": [
    "# operating the non-stationary OHLC on the eigen vectors\n",
    "stationary_OHLCWp = np.matmul(np.array(np.log(daily_OHLCWp)), coint_result_log_OHLCWp[1].reshape(-1, 1))"
   ]
  },
  {
   "cell_type": "code",
   "execution_count": null,
   "id": "63613c29",
   "metadata": {},
   "outputs": [
    {
     "data": {
      "text/plain": [
       "Text(0, 0.5, 'Co-integrated OHLCWp')"
      ]
     },
     "execution_count": 61,
     "metadata": {},
     "output_type": "execute_result"
    },
    {
     "data": {
      "image/png": "[encoded data removed]",
      "text/plain": [
       "<Figure size 432x288 with 1 Axes>"
      ]
     },
     "metadata": {
      "needs_background": "light"
     },
     "output_type": "display_data"
    }
   ],
   "source": [
    "plt.plot(daily_OHLCWp.index, stationary_OHLCWp) # checks the plots of after the operation in the eigen vectors\n",
    "plt.xlabel('years')\n",
    "plt.ylabel('Co-integrated OHLCWp')"
   ]
  },
  {
   "cell_type": "markdown",
   "id": "b6f220ac",
   "metadata": {},
   "source": [
    "from the plot, we see that that although the log of OHLCWp themselves aren't stationary, they will become stationary after operation on the eigen vectors. Let's further confirm this by seeing the results of ADF"
   ]
  },
  {
   "cell_type": "code",
   "execution_count": null,
   "id": "b9322d76",
   "metadata": {},
   "outputs": [
    {
     "data": {
      "text/html": [
       "<div>\n",
       "<style scoped>\n",
       "    .dataframe tbody tr th:only-of-type {\n",
       "        vertical-align: middle;\n",
       "    }\n",
       "\n",
       "    .dataframe tbody tr th {\n",
       "        vertical-align: top;\n",
       "    }\n",
       "\n",
       "    .dataframe thead th {\n",
       "        text-align: right;\n",
       "    }\n",
       "</style>\n",
       "<table border=\"1\" class=\"dataframe\">\n",
       "  <thead>\n",
       "    <tr style=\"text-align: right;\">\n",
       "      <th></th>\n",
       "      <th>ADF_Stat</th>\n",
       "      <th>p_value</th>\n",
       "      <th>n_lags</th>\n",
       "      <th>n_observations</th>\n",
       "      <th>1%</th>\n",
       "      <th>5%</th>\n",
       "      <th>10%</th>\n",
       "    </tr>\n",
       "  </thead>\n",
       "  <tbody>\n",
       "    <tr>\n",
       "      <th>OHLCWp</th>\n",
       "      <td>-10.046708</td>\n",
       "      <td>1.448025e-17</td>\n",
       "      <td>23</td>\n",
       "      <td>3156</td>\n",
       "      <td>-3.432424</td>\n",
       "      <td>-2.862456</td>\n",
       "      <td>-2.567258</td>\n",
       "    </tr>\n",
       "  </tbody>\n",
       "</table>\n",
       "</div>"
      ],
      "text/plain": [
       "         ADF_Stat       p_value  n_lags  n_observations        1%        5%  \\\n",
       "OHLCWp -10.046708  1.448025e-17      23            3156 -3.432424 -2.862456   \n",
       "\n",
       "             10%  \n",
       "OHLCWp -2.567258  "
      ]
     },
     "execution_count": 62,
     "metadata": {},
     "output_type": "execute_result"
    }
   ],
   "source": [
    "get_adf_results(pd.DataFrame({'OHLCWp': stationary_OHLCWp.flatten()}, index=daily_df_imputed.index))"
   ]
  },
  {
   "cell_type": "markdown",
   "id": "767371b2",
   "metadata": {},
   "source": [
    "we now see that after operating the log of OHLCWp on the eigen vectors, they are will become stationary. We conclude that the log of OHLCWp are indeed cointegrated. We won't conduct cointegration test for the weekly btc and currency because they didn't meet the pre-requisite of cointegration. Btc according to ADF test is I(0) while Currency currency is I(0) after taking log transform. So, we proceed to applying differencing on the log of btc and currency."
   ]
  },
  {
   "cell_type": "markdown",
   "id": "de68f8e9",
   "metadata": {},
   "source": [
    "## Causation Test"
   ]
  },
  {
   "cell_type": "code",
   "execution_count": null,
   "id": "0225f860",
   "metadata": {},
   "outputs": [],
   "source": [
    "from statsmodels.tsa.stattools import grangercausalitytests\n",
    "from statsmodels.tsa.vector_ar.var_model import VAR"
   ]
  },
  {
   "cell_type": "code",
   "execution_count": null,
   "id": "5b12adf3",
   "metadata": {},
   "outputs": [],
   "source": [
    "def get_grangers_causation_results(df, maxlag, test='ssr_chi2test'):    \n",
    "    results = []\n",
    "    \n",
    "    for row in df.columns:\n",
    "        row_result = []\n",
    "        \n",
    "        for col in df.columns:\n",
    "            test_result = grangercausalitytests(df[[col, row]], maxlag=maxlag, verbose=False)\n",
    "            p_values = [round(test_result[i+1][0][test][1], 4) for i in range(maxlag)]\n",
    "            min_p_value = np.min(p_values)\n",
    "            row_result.append(min_p_value)\n",
    "            \n",
    "        results.append(row_result)\n",
    "        \n",
    "    ind = [i + '_x' for i in df.columns]\n",
    "    cols = [i + '_y' for i in df.columns]\n",
    "    \n",
    "    return pd.DataFrame(np.array(results), index=ind, columns=cols)"
   ]
  },
  {
   "cell_type": "code",
   "execution_count": null,
   "id": "415a9934",
   "metadata": {},
   "outputs": [],
   "source": [
    "# creating a time series split function\n",
    "def ts_train_test_split(df, test_size):\n",
    "    len_test = int(df.shape[0]*test_size)\n",
    "    split_point = df.index[-len_test]\n",
    "    \n",
    "    train, test = df[df.index < split_point], df[df.index >= split_point]\n",
    "    \n",
    "    return train, test"
   ]
  },
  {
   "cell_type": "code",
   "execution_count": null,
   "id": "3cf1688a",
   "metadata": {},
   "outputs": [],
   "source": [
    "# splitting OHLCWp into train and test set\n",
    "OHLCWp_train, OHLCWp_test = ts_train_test_split(np.log(daily_OHLCWp), 0.25)"
   ]
  },
  {
   "cell_type": "code",
   "execution_count": null,
   "id": "7a682438",
   "metadata": {},
   "outputs": [
    {
     "data": {
      "text/html": [
       "<table class=\"simpletable\">\n",
       "<caption>VAR Order Selection (* highlights the minimums)</caption>\n",
       "<tr>\n",
       "   <td></td>      <th>AIC</th>         <th>BIC</th>         <th>FPE</th>        <th>HQIC</th>    \n",
       "</tr>\n",
       "<tr>\n",
       "  <th>0</th>  <td>    -24.20</td>  <td>    -24.19</td>  <td> 3.077e-11</td>  <td>    -24.20</td> \n",
       "</tr>\n",
       "<tr>\n",
       "  <th>1</th>  <td>    -39.21</td>  <td>    -39.14</td>  <td> 9.345e-18</td>  <td>    -39.19</td> \n",
       "</tr>\n",
       "<tr>\n",
       "  <th>2</th>  <td>    -39.28</td>  <td>    -39.14*</td> <td> 8.736e-18</td>  <td>    -39.23</td> \n",
       "</tr>\n",
       "<tr>\n",
       "  <th>3</th>  <td>    -39.31</td>  <td>    -39.12</td>  <td> 8.461e-18</td>  <td>    -39.24</td> \n",
       "</tr>\n",
       "<tr>\n",
       "  <th>4</th>  <td>    -39.33</td>  <td>    -39.08</td>  <td> 8.265e-18</td>  <td>    -39.24*</td>\n",
       "</tr>\n",
       "<tr>\n",
       "  <th>5</th>  <td>    -39.35</td>  <td>    -39.04</td>  <td> 8.107e-18</td>  <td>    -39.24</td> \n",
       "</tr>\n",
       "<tr>\n",
       "  <th>6</th>  <td>    -39.37</td>  <td>    -38.99</td>  <td> 8.006e-18</td>  <td>    -39.23</td> \n",
       "</tr>\n",
       "<tr>\n",
       "  <th>7</th>  <td>    -39.39</td>  <td>    -38.95</td>  <td> 7.801e-18</td>  <td>    -39.23</td> \n",
       "</tr>\n",
       "<tr>\n",
       "  <th>8</th>  <td>    -39.40</td>  <td>    -38.90</td>  <td> 7.727e-18</td>  <td>    -39.22</td> \n",
       "</tr>\n",
       "<tr>\n",
       "  <th>9</th>  <td>    -39.41</td>  <td>    -38.85</td>  <td> 7.688e-18</td>  <td>    -39.20</td> \n",
       "</tr>\n",
       "<tr>\n",
       "  <th>10</th> <td>    -39.42</td>  <td>    -38.80</td>  <td> 7.611e-18</td>  <td>    -39.19</td> \n",
       "</tr>\n",
       "<tr>\n",
       "  <th>11</th> <td>    -39.42*</td> <td>    -38.74</td>  <td> 7.600e-18*</td> <td>    -39.17</td> \n",
       "</tr>\n",
       "<tr>\n",
       "  <th>12</th> <td>    -39.41</td>  <td>    -38.67</td>  <td> 7.634e-18</td>  <td>    -39.14</td> \n",
       "</tr>\n",
       "<tr>\n",
       "  <th>13</th> <td>    -39.41</td>  <td>    -38.60</td>  <td> 7.692e-18</td>  <td>    -39.11</td> \n",
       "</tr>\n",
       "<tr>\n",
       "  <th>14</th> <td>    -39.40</td>  <td>    -38.54</td>  <td> 7.717e-18</td>  <td>    -39.09</td> \n",
       "</tr>\n",
       "<tr>\n",
       "  <th>15</th> <td>    -39.40</td>  <td>    -38.47</td>  <td> 7.731e-18</td>  <td>    -39.06</td> \n",
       "</tr>\n",
       "<tr>\n",
       "  <th>16</th> <td>    -39.41</td>  <td>    -38.42</td>  <td> 7.698e-18</td>  <td>    -39.05</td> \n",
       "</tr>\n",
       "<tr>\n",
       "  <th>17</th> <td>    -39.40</td>  <td>    -38.35</td>  <td> 7.746e-18</td>  <td>    -39.02</td> \n",
       "</tr>\n",
       "<tr>\n",
       "  <th>18</th> <td>    -39.39</td>  <td>    -38.28</td>  <td> 7.790e-18</td>  <td>    -38.99</td> \n",
       "</tr>\n",
       "<tr>\n",
       "  <th>19</th> <td>    -39.39</td>  <td>    -38.22</td>  <td> 7.793e-18</td>  <td>    -38.97</td> \n",
       "</tr>\n",
       "<tr>\n",
       "  <th>20</th> <td>    -39.38</td>  <td>    -38.15</td>  <td> 7.879e-18</td>  <td>    -38.93</td> \n",
       "</tr>\n",
       "</table>"
      ],
      "text/plain": [
       "<class 'statsmodels.iolib.table.SimpleTable'>"
      ]
     },
     "execution_count": 67,
     "metadata": {},
     "output_type": "execute_result"
    }
   ],
   "source": [
    "model_ohlcwp = VAR(OHLCWp_train) # initializes VAR object\n",
    "model_ohlcwp.select_order(maxlags=20).summary() # gets the summary"
   ]
  },
  {
   "cell_type": "markdown",
   "id": "f837567d",
   "metadata": {},
   "source": [
    "from the AIC score, the best lag order to use for OHLCWp is 11"
   ]
  },
  {
   "cell_type": "code",
   "execution_count": null,
   "id": "d3142e7a",
   "metadata": {
    "scrolled": true
   },
   "outputs": [
    {
     "data": {
      "text/html": [
       "<div>\n",
       "<style scoped>\n",
       "    .dataframe tbody tr th:only-of-type {\n",
       "        vertical-align: middle;\n",
       "    }\n",
       "\n",
       "    .dataframe tbody tr th {\n",
       "        vertical-align: top;\n",
       "    }\n",
       "\n",
       "    .dataframe thead th {\n",
       "        text-align: right;\n",
       "    }\n",
       "</style>\n",
       "<table border=\"1\" class=\"dataframe\">\n",
       "  <thead>\n",
       "    <tr style=\"text-align: right;\">\n",
       "      <th></th>\n",
       "      <th>Open_y</th>\n",
       "      <th>High_y</th>\n",
       "      <th>Low_y</th>\n",
       "      <th>Close_y</th>\n",
       "      <th>Weighted_Price_y</th>\n",
       "    </tr>\n",
       "  </thead>\n",
       "  <tbody>\n",
       "    <tr>\n",
       "      <th>Open_x</th>\n",
       "      <td>1.0</td>\n",
       "      <td>0.0</td>\n",
       "      <td>0.0</td>\n",
       "      <td>0.0014</td>\n",
       "      <td>0.0000</td>\n",
       "    </tr>\n",
       "    <tr>\n",
       "      <th>High_x</th>\n",
       "      <td>0.0</td>\n",
       "      <td>1.0</td>\n",
       "      <td>0.0</td>\n",
       "      <td>0.0000</td>\n",
       "      <td>0.0000</td>\n",
       "    </tr>\n",
       "    <tr>\n",
       "      <th>Low_x</th>\n",
       "      <td>0.0</td>\n",
       "      <td>0.0</td>\n",
       "      <td>1.0</td>\n",
       "      <td>0.0726</td>\n",
       "      <td>0.0575</td>\n",
       "    </tr>\n",
       "    <tr>\n",
       "      <th>Close_x</th>\n",
       "      <td>0.0</td>\n",
       "      <td>0.0</td>\n",
       "      <td>0.0</td>\n",
       "      <td>1.0000</td>\n",
       "      <td>0.0000</td>\n",
       "    </tr>\n",
       "    <tr>\n",
       "      <th>Weighted_Price_x</th>\n",
       "      <td>0.0</td>\n",
       "      <td>0.0</td>\n",
       "      <td>0.0</td>\n",
       "      <td>0.0000</td>\n",
       "      <td>1.0000</td>\n",
       "    </tr>\n",
       "  </tbody>\n",
       "</table>\n",
       "</div>"
      ],
      "text/plain": [
       "                  Open_y  High_y  Low_y  Close_y  Weighted_Price_y\n",
       "Open_x               1.0     0.0    0.0   0.0014            0.0000\n",
       "High_x               0.0     1.0    0.0   0.0000            0.0000\n",
       "Low_x                0.0     0.0    1.0   0.0726            0.0575\n",
       "Close_x              0.0     0.0    0.0   1.0000            0.0000\n",
       "Weighted_Price_x     0.0     0.0    0.0   0.0000            1.0000"
      ]
     },
     "execution_count": 68,
     "metadata": {},
     "output_type": "execute_result"
    }
   ],
   "source": [
    "get_grangers_causation_results(np.log(daily_OHLCWp), 11)     "
   ]
  },
  {
   "cell_type": "markdown",
   "id": "42fca695",
   "metadata": {},
   "source": [
    "From the causation test, we see clearly that almost all the p-values of OHLCWp are less than the 0.05 significant threshold, while just two of them are greater than 0.05 but less than 0.1 significant threshold. SO, we can conclude that the causation amongst OHLCWp is high."
   ]
  },
  {
   "cell_type": "markdown",
   "id": "8f10d762",
   "metadata": {},
   "source": [
    "## Modelling"
   ]
  },
  {
   "cell_type": "code",
   "execution_count": null,
   "id": "0281d024",
   "metadata": {},
   "outputs": [],
   "source": [
    "# creating a walk forward fuction that will split a time series into training and testing, and return a tuple of\n",
    "# the test set and the predicited test set\n",
    "def walk_forward_VAR(df, test_size, lag_order):\n",
    "    \n",
    "    train, test = ts_train_test_split(df, test_size) # splits the data into train and test set\n",
    "        \n",
    "    history = [list(x) for x in np.array(train)] # makes a list of lists from the train set\n",
    "    forecasts = [] # empty list to store our forecasts\n",
    "    \n",
    "    for t in range(test.shape[0]): # for each test set,\n",
    "        model = VAR(np.array(history)) # initialize a VAR model on the train set,              \n",
    "        model_fit = model.fit(lag_order) # fit the model\n",
    "        yhat = model_fit.forecast(model.y, steps=1) # forecast just the next time step\n",
    "        forecasts.append(list(yhat[0])) # add the forecast to the forecasts list\n",
    "        history.append(list(np.array(test)[t])) # add the actual test value as the last observation of the \n",
    "                                                # train set \n",
    "            \n",
    "    # return a tuple of the test set and the predicited test set as a tuple of dataframes \n",
    "    return test, pd.DataFrame(np.array(forecasts), index=test.index)"
   ]
  },
  {
   "cell_type": "code",
   "execution_count": null,
   "id": "47b2a4d0",
   "metadata": {},
   "outputs": [],
   "source": [
    "# OHLC walk forward\n",
    "OHLCWp_VAR_results_test, OHLCWp_VAR_results_pred = walk_forward_VAR(np.log(daily_OHLCWp), 0.25, 11)\n",
    "OHLCWp_VAR_results = np.exp(OHLCWp_VAR_results_test), np.exp(OHLCWp_VAR_results_pred)"
   ]
  },
  {
   "cell_type": "code",
   "execution_count": null,
   "id": "ab1d353b",
   "metadata": {},
   "outputs": [],
   "source": [
    "# importing mean squared error metric\n",
    "from sklearn.metrics import mean_squared_error as mse"
   ]
  },
  {
   "cell_type": "code",
   "execution_count": null,
   "id": "4673a00b",
   "metadata": {},
   "outputs": [],
   "source": [
    "# defining mean absolute percentage error metric\n",
    "def mape(df_true, df_pred, epsilon=1e-4):\n",
    "    df_true[df_true == 0] = epsilon # replaces every occurence of zero in the true values with epsilon\n",
    "    \n",
    "    error = df_true - df_pred\n",
    "    \n",
    "    return 100 * np.mean(np.abs(error/df_true), axis=0)"
   ]
  },
  {
   "cell_type": "code",
   "execution_count": null,
   "id": "c7d2540c",
   "metadata": {},
   "outputs": [],
   "source": [
    "# defining a function to return both rmse and mape scores\n",
    "def get_rmse_and_mape(df_true, df_pred):\n",
    "    results = {'RMSE': mse(np.array(df_true), np.array(df_pred), multioutput='raw_values', squared=False), \n",
    "               'MAPE (%)': mape(np.array(df_true), np.array(df_pred))}\n",
    "    \n",
    "    return pd.DataFrame(results, index=df_true.columns)"
   ]
  },
  {
   "cell_type": "code",
   "execution_count": null,
   "id": "e9ec5feb",
   "metadata": {},
   "outputs": [
    {
     "data": {
      "text/html": [
       "<div>\n",
       "<style scoped>\n",
       "    .dataframe tbody tr th:only-of-type {\n",
       "        vertical-align: middle;\n",
       "    }\n",
       "\n",
       "    .dataframe tbody tr th {\n",
       "        vertical-align: top;\n",
       "    }\n",
       "\n",
       "    .dataframe thead th {\n",
       "        text-align: right;\n",
       "    }\n",
       "</style>\n",
       "<table border=\"1\" class=\"dataframe\">\n",
       "  <thead>\n",
       "    <tr style=\"text-align: right;\">\n",
       "      <th></th>\n",
       "      <th>RMSE</th>\n",
       "      <th>MAPE (%)</th>\n",
       "    </tr>\n",
       "  </thead>\n",
       "  <tbody>\n",
       "    <tr>\n",
       "      <th>Open</th>\n",
       "      <td>5.549950</td>\n",
       "      <td>0.049604</td>\n",
       "    </tr>\n",
       "    <tr>\n",
       "      <th>High</th>\n",
       "      <td>217.029664</td>\n",
       "      <td>1.791413</td>\n",
       "    </tr>\n",
       "    <tr>\n",
       "      <th>Low</th>\n",
       "      <td>282.596983</td>\n",
       "      <td>2.488941</td>\n",
       "    </tr>\n",
       "    <tr>\n",
       "      <th>Close</th>\n",
       "      <td>315.766589</td>\n",
       "      <td>2.570504</td>\n",
       "    </tr>\n",
       "    <tr>\n",
       "      <th>Weighted_Price</th>\n",
       "      <td>209.666396</td>\n",
       "      <td>1.731769</td>\n",
       "    </tr>\n",
       "  </tbody>\n",
       "</table>\n",
       "</div>"
      ],
      "text/plain": [
       "                      RMSE  MAPE (%)\n",
       "Open              5.549950  0.049604\n",
       "High            217.029664  1.791413\n",
       "Low             282.596983  2.488941\n",
       "Close           315.766589  2.570504\n",
       "Weighted_Price  209.666396  1.731769"
      ]
     },
     "execution_count": 74,
     "metadata": {},
     "output_type": "execute_result"
    }
   ],
   "source": [
    "get_rmse_and_mape(OHLCWp_VAR_results[0], OHLCWp_VAR_results[1]) # gets the rmse and mape scores of OHLC"
   ]
  },
  {
   "cell_type": "code",
   "execution_count": null,
   "id": "ba84f1f3",
   "metadata": {},
   "outputs": [
    {
     "data": {
      "image/png": "[encoded data removed]",
      "text/plain": [
       "<Figure size 1296x576 with 5 Axes>"
      ]
     },
     "metadata": {
      "needs_background": "light"
     },
     "output_type": "display_data"
    }
   ],
   "source": [
    "# plots of our predictions and the true values for OHLCWp with VAR model\n",
    "fig = plt.figure(figsize=(18, 8))\n",
    "for i, col_test, col_pred in zip(range(1, 6), OHLCWp_VAR_results[0], OHLCWp_VAR_results[1]):\n",
    "    if i == 5:\n",
    "        a = fig.add_subplot(3, 1, 3)\n",
    "        plt.plot(OHLCWp_VAR_results[0][col_test])\n",
    "        plt.plot(OHLCWp_VAR_results[1].iloc[:, col_pred])\n",
    "        plt.legend(['true', 'pred'])\n",
    "        plt.xlabel('days')\n",
    "        plt.ylabel(col_test)\n",
    "        \n",
    "    else:\n",
    "        a = fig.add_subplot(3, 2, i)\n",
    "        plt.plot(OHLCWp_VAR_results[0][col_test])\n",
    "        plt.plot(OHLCWp_VAR_results[1].iloc[:, col_pred])\n",
    "        plt.legend(['true', 'pred'])\n",
    "        plt.xlabel('days')\n",
    "        plt.ylabel(col_test)"
   ]
  },
  {
   "cell_type": "code",
   "execution_count": null,
   "id": "406fffe0",
   "metadata": {},
   "outputs": [
    {
     "data": {
      "image/png": "[encoded data removed]",
      "text/plain": [
       "<Figure size 1296x576 with 5 Axes>"
      ]
     },
     "metadata": {
      "needs_background": "light"
     },
     "output_type": "display_data"
    }
   ],
   "source": [
    "# plots of our predictions and the true values for OHLCWp with VAR model\n",
    "fig = plt.figure(figsize=(18, 8))\n",
    "for i, col_test, col_pred in zip(range(1, 6), OHLCWp_VAR_results[0], OHLCWp_VAR_results[1]):\n",
    "    if i == 5:\n",
    "        a = fig.add_subplot(3, 1, 3)\n",
    "        plt.plot(OHLCWp_VAR_results[0][col_test] - OHLCWp_VAR_results[1].iloc[:, col_pred])\n",
    "        plt.xlabel('days')\n",
    "        plt.ylabel(col_test)\n",
    "        \n",
    "    else:\n",
    "        a = fig.add_subplot(3, 2, i)\n",
    "        plt.plot(OHLCWp_VAR_results[0][col_test] - OHLCWp_VAR_results[1].iloc[:, col_pred])\n",
    "        plt.xlabel('days')\n",
    "        plt.ylabel(col_test)"
   ]
  },
  {
   "cell_type": "code",
   "execution_count": null,
   "id": "28835812",
   "metadata": {},
   "outputs": [
    {
     "data": {
      "image/png": "[encoded data removed]",
      "text/plain": [
       "<Figure size 1296x576 with 5 Axes>"
      ]
     },
     "metadata": {
      "needs_background": "light"
     },
     "output_type": "display_data"
    }
   ],
   "source": [
    "# plots of our predictions and the true values for OHLCWp with VAR model\n",
    "fig = plt.figure(figsize=(18, 8))\n",
    "for i, col_test, col_pred in zip(range(1, 6), OHLCWp_VAR_results[0], OHLCWp_VAR_results[1]):\n",
    "    if i == 5:\n",
    "        a = fig.add_subplot(3, 1, 3)\n",
    "        plt.hist(OHLCWp_VAR_results[0][col_test] - OHLCWp_VAR_results[1].iloc[:, col_pred])\n",
    "        plt.xlabel('days')\n",
    "        plt.ylabel(col_test)\n",
    "        \n",
    "    else:\n",
    "        a = fig.add_subplot(3, 2, i)\n",
    "        plt.hist(OHLCWp_VAR_results[0][col_test] - OHLCWp_VAR_results[1].iloc[:, col_pred])\n",
    "        plt.xlabel('days')\n",
    "        plt.ylabel(col_test)"
   ]
  }
 ],
 "metadata": {
  "kernelspec": {
   "display_name": "Python 3",
   "language": "python",
   "name": "python3"
  },
  "language_info": {
   "codemirror_mode": {
    "name": "ipython",
    "version": 3
   },
   "file_extension": ".py",
   "mimetype": "text/x-python",
   "name": "python",
   "nbconvert_exporter": "python",
   "pygments_lexer": "ipython3",
   "version": "3.9.12"
  }
 },
 "nbformat": 4,
 "nbformat_minor": 5
}
